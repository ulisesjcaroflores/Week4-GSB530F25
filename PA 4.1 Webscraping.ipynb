{
  "cells": [
    {
      "cell_type": "raw",
      "metadata": {
        "vscode": {
          "languageId": "raw"
        }
      },
      "source": [
        "---\n",
        "title: PA 4.1 Webscraping\n",
        "author: Ulises Caro\n",
        "format: \n",
        "    html:\n",
        "        code-fold: true\n",
        "        embed-resources: true\n",
        "echo: true\n",
        "---"
      ]
    },
    {
      "cell_type": "markdown",
      "metadata": {
        "id": "qrJX4FDa8oA8"
      },
      "source": [
        "# XML, HTML, and Web Scraping\n",
        "\n",
        "JSON and XML are two different ways to represent hierarchical data. Which one is better? There are lots of articles online which discuss similarities and differences between JSON and XML and their advantages and disadvantages. Both formats are still in current usage, so it is good to be familiar with both. However, JSON is more common, so we'll focus on working with JSON representations of hierarchical data.\n",
        "\n",
        "The reading covered an example of using Beautiful Soup to parse XML. Rather than doing another example XML now, we'll skip straight to scraping HTML from a webpage. Both HTML and XML can be parsed in a similar way with Beautiful Soup."
      ]
    },
    {
      "cell_type": "code",
      "execution_count": 54,
      "metadata": {
        "id": "XZhT8jhbuZSg"
      },
      "outputs": [],
      "source": [
        "import pandas as pd\n",
        "import requests"
      ]
    },
    {
      "cell_type": "markdown",
      "metadata": {
        "id": "ApqnMQ4iV4qu"
      },
      "source": [
        "## Scraping an HTML table with Beautiful Soup"
      ]
    },
    {
      "cell_type": "markdown",
      "metadata": {
        "id": "9SD7XOs_So3G"
      },
      "source": [
        "Open the URL https://en.wikipedia.org/wiki/List_of_United_States_cities_by_population and scroll down until you see a table of the cities in the U.S. with population over 100,000 (as of Jul 1, 2022). We'll use Beautiful Soup to scrape information from this table."
      ]
    },
    {
      "cell_type": "markdown",
      "metadata": {
        "id": "HRmnzgaQS_T0"
      },
      "source": [
        "Read in the HTML from the ULR using the `requests` library."
      ]
    },
    {
      "cell_type": "code",
      "execution_count": 55,
      "metadata": {
        "id": "xvYzbSospYVu"
      },
      "outputs": [],
      "source": [
        "URL = \"https://en.wikipedia.org/wiki/List_of_United_States_cities_by_population\"\n",
        "HEADERS = {\"User-Agent\": \"Mozilla/5.0 (Windows NT 10.0; Win64; x64)\"}\n",
        "\n",
        "response = requests.get(URL, headers=HEADERS)"
      ]
    },
    {
      "cell_type": "markdown",
      "metadata": {
        "id": "YJ1Swg6B82_J"
      },
      "source": [
        "Use Beautiful Soup to parse this string into a tree called `soup`"
      ]
    },
    {
      "cell_type": "code",
      "execution_count": 56,
      "metadata": {
        "colab": {
          "base_uri": "https://localhost:8080/"
        },
        "id": "e0jpmfwtpaEB",
        "outputId": "d860f64f-0ee4-472d-99ee-70dde8796db8"
      },
      "outputs": [
        {
          "name": "stdout",
          "output_type": "stream",
          "text": [
            "Requirement already satisfied: beautifulsoup4 in /usr/local/lib/python3.12/dist-packages (4.13.5)\n",
            "Requirement already satisfied: soupsieve>1.2 in /usr/local/lib/python3.12/dist-packages (from beautifulsoup4) (2.8)\n",
            "Requirement already satisfied: typing-extensions>=4.0.0 in /usr/local/lib/python3.12/dist-packages (from beautifulsoup4) (4.15.0)\n"
          ]
        }
      ],
      "source": [
        "pip install beautifulsoup4\n"
      ]
    },
    {
      "cell_type": "code",
      "execution_count": 57,
      "metadata": {
        "id": "R5I4qazw_luG"
      },
      "outputs": [],
      "source": [
        "from bs4 import BeautifulSoup\n",
        "soup = BeautifulSoup(response.text, \"html.parser\")"
      ]
    },
    {
      "cell_type": "markdown",
      "metadata": {
        "id": "lFxGW_KIDjnx"
      },
      "source": [
        "To find an HTML tag corresponding to a specific element on a webpage, right-click on it and choose \"Inspect element\". Go to the cities table Wikipedia page and do this now.\n",
        "\n",
        "You should find that the cities table on the Wikipedia page corresponds to the element\n",
        "\n",
        "```\n",
        "<table class=\"wikitable sortable jquery-tablesorter\" style=\"text-align:center\">\n",
        "```"
      ]
    },
    {
      "cell_type": "markdown",
      "metadata": {
        "id": "DR50aTBZEwov"
      },
      "source": [
        "There are many `<table>` tags on the page."
      ]
    },
    {
      "cell_type": "code",
      "execution_count": 58,
      "metadata": {
        "colab": {
          "base_uri": "https://localhost:8080/"
        },
        "id": "4691d-EGEwc0",
        "outputId": "89177689-f389-4e74-eb62-3999c12d3c1d"
      },
      "outputs": [
        {
          "data": {
            "text/plain": [
              "10"
            ]
          },
          "execution_count": 58,
          "metadata": {},
          "output_type": "execute_result"
        }
      ],
      "source": [
        "len(soup.find_all(\"table\"))"
      ]
    },
    {
      "cell_type": "markdown",
      "metadata": {
        "id": "H1xslM2yE1GI"
      },
      "source": [
        "We can use attributes like `class=` and `style=` to narrow down the list."
      ]
    },
    {
      "cell_type": "code",
      "execution_count": 59,
      "metadata": {
        "colab": {
          "base_uri": "https://localhost:8080/"
        },
        "id": "E0Q0sa46DvTZ",
        "outputId": "69b9e21d-2d60-42d8-cc27-7bef62489850"
      },
      "outputs": [
        {
          "data": {
            "text/plain": [
              "1"
            ]
          },
          "execution_count": 59,
          "metadata": {},
          "output_type": "execute_result"
        }
      ],
      "source": [
        "len(soup.find_all(\"table\",\n",
        "                  attrs={\n",
        "                      \"class\": \"sortable wikitable sticky-header-multi static-row-numbers sort-under col1left col2center\",\n",
        "                      \"style\": \"text-align:right\"}\n",
        "                  ))"
      ]
    },
    {
      "cell_type": "markdown",
      "metadata": {
        "id": "ndnRSJJiFFby"
      },
      "source": [
        "At this point, you can manually inspect the tables on the webpage to find that the one we want is the first one (see `[0]` below). We'll store this as `table`."
      ]
    },
    {
      "cell_type": "code",
      "execution_count": 60,
      "metadata": {
        "id": "sRBSqVGlYhuT"
      },
      "outputs": [],
      "source": [
        "table = soup.find_all(\"table\",\n",
        "                  attrs={\n",
        "                      \"class\": \"sortable wikitable sticky-header-multi static-row-numbers sort-under col1left col2center\",\n",
        "                      \"style\": \"text-align:right\"}\n",
        "                  )[0]"
      ]
    },
    {
      "cell_type": "markdown",
      "metadata": {
        "id": "j4AWo3QoYqNY"
      },
      "source": [
        "**Now you will write code to scrape the information in `table` to create a Pandas data frame with one row for each city and columns for: city, state, population (2022 estimate), and 2020 land area (sq mi).** Refer to the Notes/suggestions below as you write your code. A few Hints are provided further down, but try coding first before looking at the hints."
      ]
    },
    {
      "cell_type": "markdown",
      "metadata": {
        "id": "KfRx2_XlDUqD"
      },
      "source": [
        "Notes/suggestions:\n",
        "\n",
        "- Use as a guide the code from the reading that produced the data frame of Statistics faculty\n",
        "- Inspect the page source as you write your code\n",
        "- You will need to write a loop to get the information for all cities, but you might want to try just scraping the info for New York first\n",
        "- You will need to pull the text from the tag. If `.text` returns text with \"\\n\" at the end, try `.get_text(strip = True)` instead of `.text`\n",
        "- Don't forget to convert to a Pandas Data Frame; it should have 333 rows and 4 columns\n",
        "- The goal of this exercise is just to create the Data Frame. If you were going to use it --- e.g., what is the population density for all cities in CA? --- then you would need to clean the data first (to clean strings and convert to quantitative). (You can use Beautiful Soup to do some of the cleaning for you, but that goes beyond our scope.)"
      ]
    },
    {
      "cell_type": "code",
      "execution_count": null,
      "metadata": {
        "id": "msKiUcOZpSX7"
      },
      "outputs": [],
      "source": [
        "# YOUR CODE HERE. ADD AS MANY CELLS AS NEEDED"
      ]
    },
    {
      "cell_type": "code",
      "execution_count": 61,
      "metadata": {
        "colab": {
          "base_uri": "https://localhost:8080/",
          "height": 424
        },
        "id": "1M23w-PPtUyw",
        "outputId": "7e1874d0-aa33-4d8d-a36b-5a5215f1ca47"
      },
      "outputs": [
        {
          "data": {
            "application/vnd.google.colaboratory.intrinsic+json": {
              "summary": "{\n  \"name\": \"pd\",\n  \"rows\": 346,\n  \"fields\": [\n    {\n      \"column\": \"city\",\n      \"properties\": {\n        \"dtype\": \"string\",\n        \"num_unique_values\": 332,\n        \"samples\": [\n          \"Detroit\",\n          \"Wichita Falls\",\n          \"Plano\"\n        ],\n        \"semantic_type\": \"\",\n        \"description\": \"\"\n      }\n    },\n    {\n      \"column\": \"state\",\n      \"properties\": {\n        \"dtype\": \"category\",\n        \"num_unique_values\": 46,\n        \"samples\": [\n          \"RI\",\n          \"NE\",\n          \"VA\"\n        ],\n        \"semantic_type\": \"\",\n        \"description\": \"\"\n      }\n    },\n    {\n      \"column\": \"2024 population estimate\",\n      \"properties\": {\n        \"dtype\": \"string\",\n        \"num_unique_values\": 346,\n        \"samples\": [\n          \"220,592\",\n          \"167,564\",\n          \"113,011\"\n        ],\n        \"semantic_type\": \"\",\n        \"description\": \"\"\n      }\n    },\n    {\n      \"column\": \"2020 land area\",\n      \"properties\": {\n        \"dtype\": \"string\",\n        \"num_unique_values\": 312,\n        \"samples\": [\n          \"41.6\",\n          \"747.3\",\n          \"283.6\"\n        ],\n        \"semantic_type\": \"\",\n        \"description\": \"\"\n      }\n    }\n  ]\n}",
              "type": "dataframe"
            },
            "text/html": [
              "\n",
              "  <div id=\"df-0daf63a0-d88b-4a47-910c-1d1c2353abf8\" class=\"colab-df-container\">\n",
              "    <div>\n",
              "<style scoped>\n",
              "    .dataframe tbody tr th:only-of-type {\n",
              "        vertical-align: middle;\n",
              "    }\n",
              "\n",
              "    .dataframe tbody tr th {\n",
              "        vertical-align: top;\n",
              "    }\n",
              "\n",
              "    .dataframe thead th {\n",
              "        text-align: right;\n",
              "    }\n",
              "</style>\n",
              "<table border=\"1\" class=\"dataframe\">\n",
              "  <thead>\n",
              "    <tr style=\"text-align: right;\">\n",
              "      <th></th>\n",
              "      <th>city</th>\n",
              "      <th>state</th>\n",
              "      <th>2024 population estimate</th>\n",
              "      <th>2020 land area</th>\n",
              "    </tr>\n",
              "  </thead>\n",
              "  <tbody>\n",
              "    <tr>\n",
              "      <th>0</th>\n",
              "      <td>New York</td>\n",
              "      <td>NY</td>\n",
              "      <td>8,478,072</td>\n",
              "      <td>300.5</td>\n",
              "    </tr>\n",
              "    <tr>\n",
              "      <th>1</th>\n",
              "      <td>Los Angeles</td>\n",
              "      <td>CA</td>\n",
              "      <td>3,878,704</td>\n",
              "      <td>469.5</td>\n",
              "    </tr>\n",
              "    <tr>\n",
              "      <th>2</th>\n",
              "      <td>Chicago</td>\n",
              "      <td>IL</td>\n",
              "      <td>2,721,308</td>\n",
              "      <td>227.7</td>\n",
              "    </tr>\n",
              "    <tr>\n",
              "      <th>3</th>\n",
              "      <td>Houston</td>\n",
              "      <td>TX</td>\n",
              "      <td>2,390,125</td>\n",
              "      <td>640.4</td>\n",
              "    </tr>\n",
              "    <tr>\n",
              "      <th>4</th>\n",
              "      <td>Phoenix</td>\n",
              "      <td>AZ</td>\n",
              "      <td>1,673,164</td>\n",
              "      <td>518.0</td>\n",
              "    </tr>\n",
              "    <tr>\n",
              "      <th>...</th>\n",
              "      <td>...</td>\n",
              "      <td>...</td>\n",
              "      <td>...</td>\n",
              "      <td>...</td>\n",
              "    </tr>\n",
              "    <tr>\n",
              "      <th>341</th>\n",
              "      <td>Deltona</td>\n",
              "      <td>FL</td>\n",
              "      <td>100,513</td>\n",
              "      <td>37.3</td>\n",
              "    </tr>\n",
              "    <tr>\n",
              "      <th>342</th>\n",
              "      <td>Federal Way</td>\n",
              "      <td>WA</td>\n",
              "      <td>100,252</td>\n",
              "      <td>22.3</td>\n",
              "    </tr>\n",
              "    <tr>\n",
              "      <th>343</th>\n",
              "      <td>San Angelo</td>\n",
              "      <td>TX</td>\n",
              "      <td>100,159</td>\n",
              "      <td>59.7</td>\n",
              "    </tr>\n",
              "    <tr>\n",
              "      <th>344</th>\n",
              "      <td>Tracy</td>\n",
              "      <td>CA</td>\n",
              "      <td>100,136</td>\n",
              "      <td>25.9</td>\n",
              "    </tr>\n",
              "    <tr>\n",
              "      <th>345</th>\n",
              "      <td>Sunrise</td>\n",
              "      <td>FL</td>\n",
              "      <td>100,128</td>\n",
              "      <td>16.2</td>\n",
              "    </tr>\n",
              "  </tbody>\n",
              "</table>\n",
              "<p>346 rows × 4 columns</p>\n",
              "</div>\n",
              "    <div class=\"colab-df-buttons\">\n",
              "\n",
              "  <div class=\"colab-df-container\">\n",
              "    <button class=\"colab-df-convert\" onclick=\"convertToInteractive('df-0daf63a0-d88b-4a47-910c-1d1c2353abf8')\"\n",
              "            title=\"Convert this dataframe to an interactive table.\"\n",
              "            style=\"display:none;\">\n",
              "\n",
              "  <svg xmlns=\"http://www.w3.org/2000/svg\" height=\"24px\" viewBox=\"0 -960 960 960\">\n",
              "    <path d=\"M120-120v-720h720v720H120Zm60-500h600v-160H180v160Zm220 220h160v-160H400v160Zm0 220h160v-160H400v160ZM180-400h160v-160H180v160Zm440 0h160v-160H620v160ZM180-180h160v-160H180v160Zm440 0h160v-160H620v160Z\"/>\n",
              "  </svg>\n",
              "    </button>\n",
              "\n",
              "  <style>\n",
              "    .colab-df-container {\n",
              "      display:flex;\n",
              "      gap: 12px;\n",
              "    }\n",
              "\n",
              "    .colab-df-convert {\n",
              "      background-color: #E8F0FE;\n",
              "      border: none;\n",
              "      border-radius: 50%;\n",
              "      cursor: pointer;\n",
              "      display: none;\n",
              "      fill: #1967D2;\n",
              "      height: 32px;\n",
              "      padding: 0 0 0 0;\n",
              "      width: 32px;\n",
              "    }\n",
              "\n",
              "    .colab-df-convert:hover {\n",
              "      background-color: #E2EBFA;\n",
              "      box-shadow: 0px 1px 2px rgba(60, 64, 67, 0.3), 0px 1px 3px 1px rgba(60, 64, 67, 0.15);\n",
              "      fill: #174EA6;\n",
              "    }\n",
              "\n",
              "    .colab-df-buttons div {\n",
              "      margin-bottom: 4px;\n",
              "    }\n",
              "\n",
              "    [theme=dark] .colab-df-convert {\n",
              "      background-color: #3B4455;\n",
              "      fill: #D2E3FC;\n",
              "    }\n",
              "\n",
              "    [theme=dark] .colab-df-convert:hover {\n",
              "      background-color: #434B5C;\n",
              "      box-shadow: 0px 1px 3px 1px rgba(0, 0, 0, 0.15);\n",
              "      filter: drop-shadow(0px 1px 2px rgba(0, 0, 0, 0.3));\n",
              "      fill: #FFFFFF;\n",
              "    }\n",
              "  </style>\n",
              "\n",
              "    <script>\n",
              "      const buttonEl =\n",
              "        document.querySelector('#df-0daf63a0-d88b-4a47-910c-1d1c2353abf8 button.colab-df-convert');\n",
              "      buttonEl.style.display =\n",
              "        google.colab.kernel.accessAllowed ? 'block' : 'none';\n",
              "\n",
              "      async function convertToInteractive(key) {\n",
              "        const element = document.querySelector('#df-0daf63a0-d88b-4a47-910c-1d1c2353abf8');\n",
              "        const dataTable =\n",
              "          await google.colab.kernel.invokeFunction('convertToInteractive',\n",
              "                                                    [key], {});\n",
              "        if (!dataTable) return;\n",
              "\n",
              "        const docLinkHtml = 'Like what you see? Visit the ' +\n",
              "          '<a target=\"_blank\" href=https://colab.research.google.com/notebooks/data_table.ipynb>data table notebook</a>'\n",
              "          + ' to learn more about interactive tables.';\n",
              "        element.innerHTML = '';\n",
              "        dataTable['output_type'] = 'display_data';\n",
              "        await google.colab.output.renderOutput(dataTable, element);\n",
              "        const docLink = document.createElement('div');\n",
              "        docLink.innerHTML = docLinkHtml;\n",
              "        element.appendChild(docLink);\n",
              "      }\n",
              "    </script>\n",
              "  </div>\n",
              "\n",
              "\n",
              "    <div id=\"df-f50ffc1b-c7c0-40e8-aa50-370756e278c0\">\n",
              "      <button class=\"colab-df-quickchart\" onclick=\"quickchart('df-f50ffc1b-c7c0-40e8-aa50-370756e278c0')\"\n",
              "                title=\"Suggest charts\"\n",
              "                style=\"display:none;\">\n",
              "\n",
              "<svg xmlns=\"http://www.w3.org/2000/svg\" height=\"24px\"viewBox=\"0 0 24 24\"\n",
              "     width=\"24px\">\n",
              "    <g>\n",
              "        <path d=\"M19 3H5c-1.1 0-2 .9-2 2v14c0 1.1.9 2 2 2h14c1.1 0 2-.9 2-2V5c0-1.1-.9-2-2-2zM9 17H7v-7h2v7zm4 0h-2V7h2v10zm4 0h-2v-4h2v4z\"/>\n",
              "    </g>\n",
              "</svg>\n",
              "      </button>\n",
              "\n",
              "<style>\n",
              "  .colab-df-quickchart {\n",
              "      --bg-color: #E8F0FE;\n",
              "      --fill-color: #1967D2;\n",
              "      --hover-bg-color: #E2EBFA;\n",
              "      --hover-fill-color: #174EA6;\n",
              "      --disabled-fill-color: #AAA;\n",
              "      --disabled-bg-color: #DDD;\n",
              "  }\n",
              "\n",
              "  [theme=dark] .colab-df-quickchart {\n",
              "      --bg-color: #3B4455;\n",
              "      --fill-color: #D2E3FC;\n",
              "      --hover-bg-color: #434B5C;\n",
              "      --hover-fill-color: #FFFFFF;\n",
              "      --disabled-bg-color: #3B4455;\n",
              "      --disabled-fill-color: #666;\n",
              "  }\n",
              "\n",
              "  .colab-df-quickchart {\n",
              "    background-color: var(--bg-color);\n",
              "    border: none;\n",
              "    border-radius: 50%;\n",
              "    cursor: pointer;\n",
              "    display: none;\n",
              "    fill: var(--fill-color);\n",
              "    height: 32px;\n",
              "    padding: 0;\n",
              "    width: 32px;\n",
              "  }\n",
              "\n",
              "  .colab-df-quickchart:hover {\n",
              "    background-color: var(--hover-bg-color);\n",
              "    box-shadow: 0 1px 2px rgba(60, 64, 67, 0.3), 0 1px 3px 1px rgba(60, 64, 67, 0.15);\n",
              "    fill: var(--button-hover-fill-color);\n",
              "  }\n",
              "\n",
              "  .colab-df-quickchart-complete:disabled,\n",
              "  .colab-df-quickchart-complete:disabled:hover {\n",
              "    background-color: var(--disabled-bg-color);\n",
              "    fill: var(--disabled-fill-color);\n",
              "    box-shadow: none;\n",
              "  }\n",
              "\n",
              "  .colab-df-spinner {\n",
              "    border: 2px solid var(--fill-color);\n",
              "    border-color: transparent;\n",
              "    border-bottom-color: var(--fill-color);\n",
              "    animation:\n",
              "      spin 1s steps(1) infinite;\n",
              "  }\n",
              "\n",
              "  @keyframes spin {\n",
              "    0% {\n",
              "      border-color: transparent;\n",
              "      border-bottom-color: var(--fill-color);\n",
              "      border-left-color: var(--fill-color);\n",
              "    }\n",
              "    20% {\n",
              "      border-color: transparent;\n",
              "      border-left-color: var(--fill-color);\n",
              "      border-top-color: var(--fill-color);\n",
              "    }\n",
              "    30% {\n",
              "      border-color: transparent;\n",
              "      border-left-color: var(--fill-color);\n",
              "      border-top-color: var(--fill-color);\n",
              "      border-right-color: var(--fill-color);\n",
              "    }\n",
              "    40% {\n",
              "      border-color: transparent;\n",
              "      border-right-color: var(--fill-color);\n",
              "      border-top-color: var(--fill-color);\n",
              "    }\n",
              "    60% {\n",
              "      border-color: transparent;\n",
              "      border-right-color: var(--fill-color);\n",
              "    }\n",
              "    80% {\n",
              "      border-color: transparent;\n",
              "      border-right-color: var(--fill-color);\n",
              "      border-bottom-color: var(--fill-color);\n",
              "    }\n",
              "    90% {\n",
              "      border-color: transparent;\n",
              "      border-bottom-color: var(--fill-color);\n",
              "    }\n",
              "  }\n",
              "</style>\n",
              "\n",
              "      <script>\n",
              "        async function quickchart(key) {\n",
              "          const quickchartButtonEl =\n",
              "            document.querySelector('#' + key + ' button');\n",
              "          quickchartButtonEl.disabled = true;  // To prevent multiple clicks.\n",
              "          quickchartButtonEl.classList.add('colab-df-spinner');\n",
              "          try {\n",
              "            const charts = await google.colab.kernel.invokeFunction(\n",
              "                'suggestCharts', [key], {});\n",
              "          } catch (error) {\n",
              "            console.error('Error during call to suggestCharts:', error);\n",
              "          }\n",
              "          quickchartButtonEl.classList.remove('colab-df-spinner');\n",
              "          quickchartButtonEl.classList.add('colab-df-quickchart-complete');\n",
              "        }\n",
              "        (() => {\n",
              "          let quickchartButtonEl =\n",
              "            document.querySelector('#df-f50ffc1b-c7c0-40e8-aa50-370756e278c0 button');\n",
              "          quickchartButtonEl.style.display =\n",
              "            google.colab.kernel.accessAllowed ? 'block' : 'none';\n",
              "        })();\n",
              "      </script>\n",
              "    </div>\n",
              "\n",
              "    </div>\n",
              "  </div>\n"
            ],
            "text/plain": [
              "            city state 2024 population estimate 2020 land area\n",
              "0       New York    NY                8,478,072          300.5\n",
              "1    Los Angeles    CA                3,878,704          469.5\n",
              "2        Chicago    IL                2,721,308          227.7\n",
              "3        Houston    TX                2,390,125          640.4\n",
              "4        Phoenix    AZ                1,673,164          518.0\n",
              "..           ...   ...                      ...            ...\n",
              "341      Deltona    FL                  100,513           37.3\n",
              "342  Federal Way    WA                  100,252           22.3\n",
              "343   San Angelo    TX                  100,159           59.7\n",
              "344        Tracy    CA                  100,136           25.9\n",
              "345      Sunrise    FL                  100,128           16.2\n",
              "\n",
              "[346 rows x 4 columns]"
            ]
          },
          "execution_count": 61,
          "metadata": {},
          "output_type": "execute_result"
        }
      ],
      "source": [
        "rows = []\n",
        "\n",
        "for row in table.find_all(\"tr\")[1:]:\n",
        "    cells = row.find_all(\"td\")\n",
        "    if len(cells) == 0:\n",
        "      continue\n",
        "    city = cells[0].find(\"a\")\n",
        "    cname = city.get_text(strip=True)\n",
        "\n",
        "    state = cells[1].find(\"a\")\n",
        "    sname = state.get_text(strip=True)\n",
        "\n",
        "    est = cells[2]\n",
        "    esttotal = est.get_text(strip=True)\n",
        "\n",
        "    census = cells[5]\n",
        "    census_mi= census.get_text(strip=True)\n",
        "\n",
        "    geo_data = {\n",
        "        \"city\": cname,\n",
        "        \"state\": sname,\n",
        "        \"2024 population estimate\": esttotal,\n",
        "        \"2020 land area\": census_mi\n",
        "    }\n",
        "    rows.append(geo_data)\n",
        "\n",
        "pd.DataFrame(rows)"
      ]
    },
    {
      "cell_type": "markdown",
      "metadata": {
        "id": "6s3tH82XZ1X0"
      },
      "source": [
        "Hints:\n",
        "\n",
        "- Each city is a row in the table; find all the `<tr>` tags to find all the cities\n",
        "- Look for the `<td>` tag to see table entries within a row\n",
        "- The rank column is represented by `<th>` tags, rather than `<td>` tags. So within a row, the first (that is, `[0]`) `<td>` tag corresponds to the city name."
      ]
    },
    {
      "cell_type": "markdown",
      "metadata": {
        "id": "pIW4UgURNdhz"
      },
      "source": [
        "## Aside: Scraping an HTML table with Pandas\n",
        "\n"
      ]
    },
    {
      "cell_type": "markdown",
      "metadata": {
        "id": "R2ufAAMGYenH"
      },
      "source": [
        "The Pandas command `read_html` can be used to scrape information from an HTML table on a webpage.\n",
        "\n",
        "We can call `read_html` on the URL."
      ]
    },
    {
      "cell_type": "code",
      "execution_count": null,
      "metadata": {
        "id": "ADjPe_mIOQr6"
      },
      "outputs": [],
      "source": [
        "#URL = \"https://en.wikipedia.org/wiki/List_of_United_States_cities_by_population\"\n",
        "#HEADERS = {\"User-Agent\": \"Mozilla/5.0 (Windows NT 10.0; Win64; x64)\"}\n",
        "\n",
        "#response = requests.get(URL, headers=HEADERS)\n",
        "#table = pd.read_html(response.text)\n",
        "#print(len(table))\n",
        "\n",
        "#Professor Bodwin said to skip this section"
      ]
    },
    {
      "cell_type": "code",
      "execution_count": null,
      "metadata": {
        "id": "YnGD1hMbpv7H"
      },
      "outputs": [],
      "source": [
        "#pd.read_html(\"https://en.wikipedia.org/wiki/List_of_United_States_cities_by_population\")"
      ]
    },
    {
      "cell_type": "markdown",
      "metadata": {
        "id": "pQwWgh_cqynb"
      },
      "source": [
        "However, this scrapes all the tables on the webpage, not just the one we want. As with Beautiful Soup, we can narrow the search by specifying the table attributes."
      ]
    },
    {
      "cell_type": "code",
      "execution_count": null,
      "metadata": {
        "id": "4BKvPxa9qJ2-"
      },
      "outputs": [],
      "source": [
        "#pd.read_html(\"https://en.wikipedia.org/wiki/List_of_United_States_cities_by_population\", attrs = {'class': 'wikitable sortable', \"style\": \"text-align:center\"})\n",
        "#Professor Bodwin said to skip this section"
      ]
    },
    {
      "cell_type": "markdown",
      "metadata": {
        "id": "P6P7xCnPrBtS"
      },
      "source": [
        "This still returns 3 tables. As we remarked above, the table that we want is the first one (see `[0]` below)."
      ]
    },
    {
      "cell_type": "code",
      "execution_count": null,
      "metadata": {
        "id": "96L5qJvGp7ks"
      },
      "outputs": [],
      "source": [
        "#df_cities2 = pd.read_html(\"https://en.wikipedia.org/wiki/List_of_United_States_cities_by_population\", attrs = {'class': 'wikitable sortable', \"style\": \"text-align:center\"})[0]\n",
        "#df_cities2\n",
        "#Professor Bodwin said to skip this section"
      ]
    },
    {
      "cell_type": "markdown",
      "metadata": {
        "id": "TjeczIIMYeqj"
      },
      "source": [
        "Wait, that seemed much easier than using Beautiful Soup, and it returned a data frame, and we even got for free some formatting like removing the commas from the population! Why didn't we just use `read_html` in the first place? It's true the `read_html` works well when scraping information from an HTML *table*. Unfortunately, you often want to scrape information from a webpage that isn't conveniently stored in an HTML table, in which case `read_html` won't work. (It only searches for `<table>`, `<th>`, `<tr>`, and `<td>` tags, but there are many other HTML tags.) Though Beautiful Soup is not as simple as `read_html`, it is more flexible and thus more widely applicable."
      ]
    },
    {
      "cell_type": "markdown",
      "metadata": {
        "id": "ctj79YpgX6hw"
      },
      "source": [
        "## Scraping information that is NOT in a `<table>` with Beautiful Soup"
      ]
    },
    {
      "cell_type": "markdown",
      "metadata": {
        "id": "KK6rJQbuuWwF"
      },
      "source": [
        "The Cal Poly course catalog http://catalog.calpoly.edu/collegesandprograms/collegeofsciencemathematics/statistics/#courseinventory contains a list of courses offered by the Statistics department. **You will scrape this website to obtain a Pandas data frame with one row for each DATA or STAT course and two columns: course name and number (e.g, DATA 301. Introduction to Data Science) and term typically offered (e.g., Term Typically Offered: F, W, SP).**"
      ]
    },
    {
      "cell_type": "markdown",
      "metadata": {
        "id": "hbLLrwxs0eWd"
      },
      "source": [
        "Note: Pandas `read_html` is not help here since the courses are not stored in a `<table>.`"
      ]
    },
    {
      "cell_type": "code",
      "execution_count": 46,
      "metadata": {
        "colab": {
          "base_uri": "https://localhost:8080/"
        },
        "id": "QIRewkca0jhz",
        "outputId": "06bf574d-026a-489c-ef46-bafe068a39ea"
      },
      "outputs": [
        {
          "data": {
            "text/plain": [
              "[                                        Program name   Program type\n",
              " 0                              Actuarial Preparation          Minor\n",
              " 1  Cross Disciplinary Studies Minor in Bioinforma...          Minor\n",
              " 2   Cross Disciplinary Studies Minor in Data Science          Minor\n",
              " 3                                         Statistics  BS, MS, Minor]"
            ]
          },
          "execution_count": 46,
          "metadata": {},
          "output_type": "execute_result"
        }
      ],
      "source": [
        "pd.read_html(\"http://catalog.calpoly.edu/collegesandprograms/collegeofsciencemathematics/statistics/#courseinventory\")"
      ]
    },
    {
      "cell_type": "markdown",
      "metadata": {
        "id": "lvSrhxS4Se7a"
      },
      "source": [
        "\n",
        "Notes/suggestions:\n",
        "\n",
        "\n",
        "- Inspect the page source as you write your code\n",
        "- The courses are not stored in a `<table>`. How are they stored?\n",
        "- You will need to write a loop to get the information for all courses, but you might want to try just scraping the info for DATA 100 first\n",
        "- What kind of tag is the course name stored in? What is the `class` of the tag?\n",
        "- What kind of tag is the quarter(s) the course is offered stored in? What is the `class` of the tag? Is this the only tag of this type with the class? How will you get the one you want?\n",
        "- You don't have to remove the number of units (e.g., 4 units) from the course name and number, but you can try it if you want\n",
        "- You will need to pull the text from the tag. If `.text` returns text with \"\\n\" at the end, try `get_text(strip = True)` instead of `text`\n",
        "- Don't forget to convert to a Pandas Data Frame; it should have 74 rows and 2 columns\n",
        "- The goal of this exercise is just to create the Data Frame. If you were going to use it then you might need to clean the data first. (You can use Beautiful Soup to do some of the cleaning for you, but that goes beyond our scope.)\n",
        "\n"
      ]
    },
    {
      "cell_type": "code",
      "execution_count": null,
      "metadata": {
        "id": "ZbW6xon4vICB"
      },
      "outputs": [],
      "source": [
        "# YOUR CODE HERE. ADD AS MANY CELLS AS NEEDED"
      ]
    },
    {
      "cell_type": "code",
      "execution_count": 62,
      "metadata": {
        "colab": {
          "base_uri": "https://localhost:8080/",
          "height": 493
        },
        "id": "EW2sWIGavIFc",
        "outputId": "a8756bab-4ef9-46f6-93fc-72aa745cb61d"
      },
      "outputs": [
        {
          "data": {
            "application/vnd.google.colaboratory.intrinsic+json": {
              "summary": "{\n  \"name\": \"pd\",\n  \"rows\": 74,\n  \"fields\": [\n    {\n      \"column\": \"course\",\n      \"properties\": {\n        \"dtype\": \"string\",\n        \"num_unique_values\": 74,\n        \"samples\": [\n          \"DATA\\u00a0403. Data Science Projects Laboratory.\",\n          \"STAT\\u00a0531. Statistical Computing with R.\",\n          \"STAT\\u00a0301. Statistics I.\"\n        ],\n        \"semantic_type\": \"\",\n        \"description\": \"\"\n      }\n    },\n    {\n      \"column\": \"term\",\n      \"properties\": {\n        \"dtype\": \"category\",\n        \"num_unique_values\": 8,\n        \"samples\": [\n          \"Term Typically Offered: F\",\n          \"Term Typically Offered: TBD\",\n          \"Term Typically Offered: F, W, SP\"\n        ],\n        \"semantic_type\": \"\",\n        \"description\": \"\"\n      }\n    }\n  ]\n}",
              "type": "dataframe"
            },
            "text/html": [
              "\n",
              "  <div id=\"df-6371e235-868b-45d0-9372-fa7143d5aeed\" class=\"colab-df-container\">\n",
              "    <div>\n",
              "<style scoped>\n",
              "    .dataframe tbody tr th:only-of-type {\n",
              "        vertical-align: middle;\n",
              "    }\n",
              "\n",
              "    .dataframe tbody tr th {\n",
              "        vertical-align: top;\n",
              "    }\n",
              "\n",
              "    .dataframe thead th {\n",
              "        text-align: right;\n",
              "    }\n",
              "</style>\n",
              "<table border=\"1\" class=\"dataframe\">\n",
              "  <thead>\n",
              "    <tr style=\"text-align: right;\">\n",
              "      <th></th>\n",
              "      <th>course</th>\n",
              "      <th>term</th>\n",
              "    </tr>\n",
              "  </thead>\n",
              "  <tbody>\n",
              "    <tr>\n",
              "      <th>0</th>\n",
              "      <td>DATA 100. Data Science for All I.</td>\n",
              "      <td>Term Typically Offered: F, W, SP</td>\n",
              "    </tr>\n",
              "    <tr>\n",
              "      <th>1</th>\n",
              "      <td>DATA 301. Introduction to Data Science.</td>\n",
              "      <td>Term Typically Offered: F, W, SP</td>\n",
              "    </tr>\n",
              "    <tr>\n",
              "      <th>2</th>\n",
              "      <td>DATA 401. Data Science Process and Ethics.</td>\n",
              "      <td>Term Typically Offered: F</td>\n",
              "    </tr>\n",
              "    <tr>\n",
              "      <th>3</th>\n",
              "      <td>DATA 402. Mathematical Foundations of Data Sci...</td>\n",
              "      <td>Term Typically Offered: F</td>\n",
              "    </tr>\n",
              "    <tr>\n",
              "      <th>4</th>\n",
              "      <td>DATA 403. Data Science Projects Laboratory.</td>\n",
              "      <td>Term Typically Offered: F</td>\n",
              "    </tr>\n",
              "    <tr>\n",
              "      <th>...</th>\n",
              "      <td>...</td>\n",
              "      <td>...</td>\n",
              "    </tr>\n",
              "    <tr>\n",
              "      <th>69</th>\n",
              "      <td>STAT 551. Statistical Learning with R.</td>\n",
              "      <td>Term Typically Offered: F</td>\n",
              "    </tr>\n",
              "    <tr>\n",
              "      <th>70</th>\n",
              "      <td>STAT 566. Graduate Consulting Practicum.</td>\n",
              "      <td>Term Typically Offered: SP</td>\n",
              "    </tr>\n",
              "    <tr>\n",
              "      <th>71</th>\n",
              "      <td>STAT 570. Selected Advanced Topics.</td>\n",
              "      <td>Term Typically Offered: TBD</td>\n",
              "    </tr>\n",
              "    <tr>\n",
              "      <th>72</th>\n",
              "      <td>STAT 590. Graduate Seminar in Statistics.</td>\n",
              "      <td>Term Typically Offered: F, W, SP</td>\n",
              "    </tr>\n",
              "    <tr>\n",
              "      <th>73</th>\n",
              "      <td>STAT 599. Thesis.</td>\n",
              "      <td>Term Typically Offered: TBD</td>\n",
              "    </tr>\n",
              "  </tbody>\n",
              "</table>\n",
              "<p>74 rows × 2 columns</p>\n",
              "</div>\n",
              "    <div class=\"colab-df-buttons\">\n",
              "\n",
              "  <div class=\"colab-df-container\">\n",
              "    <button class=\"colab-df-convert\" onclick=\"convertToInteractive('df-6371e235-868b-45d0-9372-fa7143d5aeed')\"\n",
              "            title=\"Convert this dataframe to an interactive table.\"\n",
              "            style=\"display:none;\">\n",
              "\n",
              "  <svg xmlns=\"http://www.w3.org/2000/svg\" height=\"24px\" viewBox=\"0 -960 960 960\">\n",
              "    <path d=\"M120-120v-720h720v720H120Zm60-500h600v-160H180v160Zm220 220h160v-160H400v160Zm0 220h160v-160H400v160ZM180-400h160v-160H180v160Zm440 0h160v-160H620v160ZM180-180h160v-160H180v160Zm440 0h160v-160H620v160Z\"/>\n",
              "  </svg>\n",
              "    </button>\n",
              "\n",
              "  <style>\n",
              "    .colab-df-container {\n",
              "      display:flex;\n",
              "      gap: 12px;\n",
              "    }\n",
              "\n",
              "    .colab-df-convert {\n",
              "      background-color: #E8F0FE;\n",
              "      border: none;\n",
              "      border-radius: 50%;\n",
              "      cursor: pointer;\n",
              "      display: none;\n",
              "      fill: #1967D2;\n",
              "      height: 32px;\n",
              "      padding: 0 0 0 0;\n",
              "      width: 32px;\n",
              "    }\n",
              "\n",
              "    .colab-df-convert:hover {\n",
              "      background-color: #E2EBFA;\n",
              "      box-shadow: 0px 1px 2px rgba(60, 64, 67, 0.3), 0px 1px 3px 1px rgba(60, 64, 67, 0.15);\n",
              "      fill: #174EA6;\n",
              "    }\n",
              "\n",
              "    .colab-df-buttons div {\n",
              "      margin-bottom: 4px;\n",
              "    }\n",
              "\n",
              "    [theme=dark] .colab-df-convert {\n",
              "      background-color: #3B4455;\n",
              "      fill: #D2E3FC;\n",
              "    }\n",
              "\n",
              "    [theme=dark] .colab-df-convert:hover {\n",
              "      background-color: #434B5C;\n",
              "      box-shadow: 0px 1px 3px 1px rgba(0, 0, 0, 0.15);\n",
              "      filter: drop-shadow(0px 1px 2px rgba(0, 0, 0, 0.3));\n",
              "      fill: #FFFFFF;\n",
              "    }\n",
              "  </style>\n",
              "\n",
              "    <script>\n",
              "      const buttonEl =\n",
              "        document.querySelector('#df-6371e235-868b-45d0-9372-fa7143d5aeed button.colab-df-convert');\n",
              "      buttonEl.style.display =\n",
              "        google.colab.kernel.accessAllowed ? 'block' : 'none';\n",
              "\n",
              "      async function convertToInteractive(key) {\n",
              "        const element = document.querySelector('#df-6371e235-868b-45d0-9372-fa7143d5aeed');\n",
              "        const dataTable =\n",
              "          await google.colab.kernel.invokeFunction('convertToInteractive',\n",
              "                                                    [key], {});\n",
              "        if (!dataTable) return;\n",
              "\n",
              "        const docLinkHtml = 'Like what you see? Visit the ' +\n",
              "          '<a target=\"_blank\" href=https://colab.research.google.com/notebooks/data_table.ipynb>data table notebook</a>'\n",
              "          + ' to learn more about interactive tables.';\n",
              "        element.innerHTML = '';\n",
              "        dataTable['output_type'] = 'display_data';\n",
              "        await google.colab.output.renderOutput(dataTable, element);\n",
              "        const docLink = document.createElement('div');\n",
              "        docLink.innerHTML = docLinkHtml;\n",
              "        element.appendChild(docLink);\n",
              "      }\n",
              "    </script>\n",
              "  </div>\n",
              "\n",
              "\n",
              "    <div id=\"df-5d820e94-8c4a-40b8-bcac-b658cdb72c02\">\n",
              "      <button class=\"colab-df-quickchart\" onclick=\"quickchart('df-5d820e94-8c4a-40b8-bcac-b658cdb72c02')\"\n",
              "                title=\"Suggest charts\"\n",
              "                style=\"display:none;\">\n",
              "\n",
              "<svg xmlns=\"http://www.w3.org/2000/svg\" height=\"24px\"viewBox=\"0 0 24 24\"\n",
              "     width=\"24px\">\n",
              "    <g>\n",
              "        <path d=\"M19 3H5c-1.1 0-2 .9-2 2v14c0 1.1.9 2 2 2h14c1.1 0 2-.9 2-2V5c0-1.1-.9-2-2-2zM9 17H7v-7h2v7zm4 0h-2V7h2v10zm4 0h-2v-4h2v4z\"/>\n",
              "    </g>\n",
              "</svg>\n",
              "      </button>\n",
              "\n",
              "<style>\n",
              "  .colab-df-quickchart {\n",
              "      --bg-color: #E8F0FE;\n",
              "      --fill-color: #1967D2;\n",
              "      --hover-bg-color: #E2EBFA;\n",
              "      --hover-fill-color: #174EA6;\n",
              "      --disabled-fill-color: #AAA;\n",
              "      --disabled-bg-color: #DDD;\n",
              "  }\n",
              "\n",
              "  [theme=dark] .colab-df-quickchart {\n",
              "      --bg-color: #3B4455;\n",
              "      --fill-color: #D2E3FC;\n",
              "      --hover-bg-color: #434B5C;\n",
              "      --hover-fill-color: #FFFFFF;\n",
              "      --disabled-bg-color: #3B4455;\n",
              "      --disabled-fill-color: #666;\n",
              "  }\n",
              "\n",
              "  .colab-df-quickchart {\n",
              "    background-color: var(--bg-color);\n",
              "    border: none;\n",
              "    border-radius: 50%;\n",
              "    cursor: pointer;\n",
              "    display: none;\n",
              "    fill: var(--fill-color);\n",
              "    height: 32px;\n",
              "    padding: 0;\n",
              "    width: 32px;\n",
              "  }\n",
              "\n",
              "  .colab-df-quickchart:hover {\n",
              "    background-color: var(--hover-bg-color);\n",
              "    box-shadow: 0 1px 2px rgba(60, 64, 67, 0.3), 0 1px 3px 1px rgba(60, 64, 67, 0.15);\n",
              "    fill: var(--button-hover-fill-color);\n",
              "  }\n",
              "\n",
              "  .colab-df-quickchart-complete:disabled,\n",
              "  .colab-df-quickchart-complete:disabled:hover {\n",
              "    background-color: var(--disabled-bg-color);\n",
              "    fill: var(--disabled-fill-color);\n",
              "    box-shadow: none;\n",
              "  }\n",
              "\n",
              "  .colab-df-spinner {\n",
              "    border: 2px solid var(--fill-color);\n",
              "    border-color: transparent;\n",
              "    border-bottom-color: var(--fill-color);\n",
              "    animation:\n",
              "      spin 1s steps(1) infinite;\n",
              "  }\n",
              "\n",
              "  @keyframes spin {\n",
              "    0% {\n",
              "      border-color: transparent;\n",
              "      border-bottom-color: var(--fill-color);\n",
              "      border-left-color: var(--fill-color);\n",
              "    }\n",
              "    20% {\n",
              "      border-color: transparent;\n",
              "      border-left-color: var(--fill-color);\n",
              "      border-top-color: var(--fill-color);\n",
              "    }\n",
              "    30% {\n",
              "      border-color: transparent;\n",
              "      border-left-color: var(--fill-color);\n",
              "      border-top-color: var(--fill-color);\n",
              "      border-right-color: var(--fill-color);\n",
              "    }\n",
              "    40% {\n",
              "      border-color: transparent;\n",
              "      border-right-color: var(--fill-color);\n",
              "      border-top-color: var(--fill-color);\n",
              "    }\n",
              "    60% {\n",
              "      border-color: transparent;\n",
              "      border-right-color: var(--fill-color);\n",
              "    }\n",
              "    80% {\n",
              "      border-color: transparent;\n",
              "      border-right-color: var(--fill-color);\n",
              "      border-bottom-color: var(--fill-color);\n",
              "    }\n",
              "    90% {\n",
              "      border-color: transparent;\n",
              "      border-bottom-color: var(--fill-color);\n",
              "    }\n",
              "  }\n",
              "</style>\n",
              "\n",
              "      <script>\n",
              "        async function quickchart(key) {\n",
              "          const quickchartButtonEl =\n",
              "            document.querySelector('#' + key + ' button');\n",
              "          quickchartButtonEl.disabled = true;  // To prevent multiple clicks.\n",
              "          quickchartButtonEl.classList.add('colab-df-spinner');\n",
              "          try {\n",
              "            const charts = await google.colab.kernel.invokeFunction(\n",
              "                'suggestCharts', [key], {});\n",
              "          } catch (error) {\n",
              "            console.error('Error during call to suggestCharts:', error);\n",
              "          }\n",
              "          quickchartButtonEl.classList.remove('colab-df-spinner');\n",
              "          quickchartButtonEl.classList.add('colab-df-quickchart-complete');\n",
              "        }\n",
              "        (() => {\n",
              "          let quickchartButtonEl =\n",
              "            document.querySelector('#df-5d820e94-8c4a-40b8-bcac-b658cdb72c02 button');\n",
              "          quickchartButtonEl.style.display =\n",
              "            google.colab.kernel.accessAllowed ? 'block' : 'none';\n",
              "        })();\n",
              "      </script>\n",
              "    </div>\n",
              "\n",
              "    </div>\n",
              "  </div>\n"
            ],
            "text/plain": [
              "                                               course  \\\n",
              "0                   DATA 100. Data Science for All I.   \n",
              "1             DATA 301. Introduction to Data Science.   \n",
              "2          DATA 401. Data Science Process and Ethics.   \n",
              "3   DATA 402. Mathematical Foundations of Data Sci...   \n",
              "4         DATA 403. Data Science Projects Laboratory.   \n",
              "..                                                ...   \n",
              "69             STAT 551. Statistical Learning with R.   \n",
              "70           STAT 566. Graduate Consulting Practicum.   \n",
              "71                STAT 570. Selected Advanced Topics.   \n",
              "72          STAT 590. Graduate Seminar in Statistics.   \n",
              "73                                  STAT 599. Thesis.   \n",
              "\n",
              "                                term  \n",
              "0   Term Typically Offered: F, W, SP  \n",
              "1   Term Typically Offered: F, W, SP  \n",
              "2          Term Typically Offered: F  \n",
              "3          Term Typically Offered: F  \n",
              "4          Term Typically Offered: F  \n",
              "..                               ...  \n",
              "69         Term Typically Offered: F  \n",
              "70        Term Typically Offered: SP  \n",
              "71       Term Typically Offered: TBD  \n",
              "72  Term Typically Offered: F, W, SP  \n",
              "73       Term Typically Offered: TBD  \n",
              "\n",
              "[74 rows x 2 columns]"
            ]
          },
          "execution_count": 62,
          "metadata": {},
          "output_type": "execute_result"
        }
      ],
      "source": [
        "rows = []\n",
        "\n",
        "URL = \"http://catalog.calpoly.edu/collegesandprograms/collegeofsciencemathematics/statistics/#courseinventory\"\n",
        "HEADERS = {\"User-Agent\": \"Mozilla/5.0 (Windows NT 10.0; Win64; x64)\"}\n",
        "\n",
        "response = requests.get(URL, headers=HEADERS)\n",
        "\n",
        "soup = BeautifulSoup(response.text, \"html.parser\")\n",
        "\n",
        "for block in soup.find_all(\"div\",class_ = \"courseblock\"):\n",
        "  title_tag = block.find(\"p\", class_=\"courseblocktitle\")\n",
        "  if not title_tag:\n",
        "      continue\n",
        "  span_tag = title_tag.find(\"span\", class_=\"courseblockhours\")\n",
        "  span_tag.extract()\n",
        "  title = title_tag.get_text(strip=True)\n",
        "\n",
        "\n",
        "  for term in block.find_all(\"p\",class_=\"noindent\"):\n",
        "    q = term.get_text(\" \", strip=True)\n",
        "    if \"Term Typically Offered:\" in q:\n",
        "      qname = q\n",
        "\n",
        "  if \"DATA\" in title or \"STAT\" in title:\n",
        "    rows.append({\"course\": title, \"term\": qname})\n",
        "\n",
        "pd.DataFrame(rows)"
      ]
    },
    {
      "cell_type": "markdown",
      "metadata": {
        "id": "17e8M_OsaHJz"
      },
      "source": [
        "Hints:\n",
        "\n",
        "- Each course is represented by a `<div>` with `class=courseblock`, so you can find all the courses with `soup.find_all(\"div\", {\"class\": \"courseblock\"})`\n",
        "- The course name is in a `<p>` tag with `class=courseblocktitle`, inside a `<strong>` tag. (Though I don't think we need to find the strong tag here.)\n",
        "- The term typically offered is in `<p>` tag with `class=noindent`. However, there are several tags with this class; term typically offered is the first one.\n",
        "- If you want to use Beautiful Soup to remove the course units (e.g., 4 units), find the `<span>` tag within the course name tag and `.extract()` this span tag"
      ]
    }
  ],
  "metadata": {
    "colab": {
      "provenance": []
    },
    "kernelspec": {
      "display_name": "Python 3",
      "name": "python3"
    },
    "language_info": {
      "name": "python"
    }
  },
  "nbformat": 4,
  "nbformat_minor": 0
}
