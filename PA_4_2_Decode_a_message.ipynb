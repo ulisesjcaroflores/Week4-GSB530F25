{
  "cells": [
    {
      "cell_type": "markdown",
      "metadata": {
        "id": "view-in-github",
        "colab_type": "text"
      },
      "source": [
        "<a href=\"https://colab.research.google.com/github/ulisesjcaroflores/Week4-GSB530F25/blob/main/PA_4_2_Decode_a_message.ipynb\" target=\"_parent\"><img src=\"https://colab.research.google.com/assets/colab-badge.svg\" alt=\"Open In Colab\"/></a>"
      ]
    },
    {
      "cell_type": "markdown",
      "metadata": {
        "id": "kPj76X_FP2uq"
      },
      "source": [
        "## Setup\n",
        "\n",
        "Run the code below to load the scrambled message:\n"
      ]
    },
    {
      "cell_type": "code",
      "metadata": {
        "id": "YwkYMR2qP2ur"
      },
      "source": [
        "import pandas as pd\n",
        "import numpy as np\n",
        "import re\n",
        "\n",
        "message = pd.read_csv(\"https://www.dropbox.com/s/lgpn3vmksk3ssdo/scrambled_message.txt?dl=1\")['Word']"
      ],
      "execution_count": 12,
      "outputs": []
    },
    {
      "cell_type": "code",
      "source": [
        "message\n",
        "type(message)\n",
        "#map are generally list; apply is for a dataframe"
      ],
      "metadata": {
        "id": "rqykaCOxF1Z9",
        "outputId": "0b6a94d0-b09d-4c0e-ce8a-9aa2a0ba6ea3",
        "colab": {
          "base_uri": "https://localhost:8080/",
          "height": 204
        }
      },
      "execution_count": 13,
      "outputs": [
        {
          "output_type": "execute_result",
          "data": {
            "text/plain": [
              "pandas.core.series.Series"
            ],
            "text/html": [
              "<div style=\"max-width:800px; border: 1px solid var(--colab-border-color);\"><style>\n",
              "      pre.function-repr-contents {\n",
              "        overflow-x: auto;\n",
              "        padding: 8px 12px;\n",
              "        max-height: 500px;\n",
              "      }\n",
              "\n",
              "      pre.function-repr-contents.function-repr-contents-collapsed {\n",
              "        cursor: pointer;\n",
              "        max-height: 100px;\n",
              "      }\n",
              "    </style>\n",
              "    <pre style=\"white-space: initial; background:\n",
              "         var(--colab-secondary-surface-color); padding: 8px 12px;\n",
              "         border-bottom: 1px solid var(--colab-border-color);\"><b>pandas.core.series.Series</b><br/>def __init__(data=None, index=None, dtype: Dtype | None=None, name=None, copy: bool | None=None, fastpath: bool | lib.NoDefault=lib.no_default) -&gt; None</pre><pre class=\"function-repr-contents function-repr-contents-collapsed\" style=\"\"><a class=\"filepath\" style=\"display:none\" href=\"#\">/usr/local/lib/python3.12/dist-packages/pandas/core/series.py</a>One-dimensional ndarray with axis labels (including time series).\n",
              "\n",
              "Labels need not be unique but must be a hashable type. The object\n",
              "supports both integer- and label-based indexing and provides a host of\n",
              "methods for performing operations involving the index. Statistical\n",
              "methods from ndarray have been overridden to automatically exclude\n",
              "missing data (currently represented as NaN).\n",
              "\n",
              "Operations between Series (+, -, /, \\*, \\*\\*) align values based on their\n",
              "associated index values-- they need not be the same length. The result\n",
              "index will be the sorted union of the two indexes.\n",
              "\n",
              "Parameters\n",
              "----------\n",
              "data : array-like, Iterable, dict, or scalar value\n",
              "    Contains data stored in Series. If data is a dict, argument order is\n",
              "    maintained.\n",
              "index : array-like or Index (1d)\n",
              "    Values must be hashable and have the same length as `data`.\n",
              "    Non-unique index values are allowed. Will default to\n",
              "    RangeIndex (0, 1, 2, ..., n) if not provided. If data is dict-like\n",
              "    and index is None, then the keys in the data are used as the index. If the\n",
              "    index is not None, the resulting Series is reindexed with the index values.\n",
              "dtype : str, numpy.dtype, or ExtensionDtype, optional\n",
              "    Data type for the output Series. If not specified, this will be\n",
              "    inferred from `data`.\n",
              "    See the :ref:`user guide &lt;basics.dtypes&gt;` for more usages.\n",
              "name : Hashable, default None\n",
              "    The name to give to the Series.\n",
              "copy : bool, default False\n",
              "    Copy input data. Only affects Series or 1d ndarray input. See examples.\n",
              "\n",
              "Notes\n",
              "-----\n",
              "Please reference the :ref:`User Guide &lt;basics.series&gt;` for more information.\n",
              "\n",
              "Examples\n",
              "--------\n",
              "Constructing Series from a dictionary with an Index specified\n",
              "\n",
              "&gt;&gt;&gt; d = {&#x27;a&#x27;: 1, &#x27;b&#x27;: 2, &#x27;c&#x27;: 3}\n",
              "&gt;&gt;&gt; ser = pd.Series(data=d, index=[&#x27;a&#x27;, &#x27;b&#x27;, &#x27;c&#x27;])\n",
              "&gt;&gt;&gt; ser\n",
              "a   1\n",
              "b   2\n",
              "c   3\n",
              "dtype: int64\n",
              "\n",
              "The keys of the dictionary match with the Index values, hence the Index\n",
              "values have no effect.\n",
              "\n",
              "&gt;&gt;&gt; d = {&#x27;a&#x27;: 1, &#x27;b&#x27;: 2, &#x27;c&#x27;: 3}\n",
              "&gt;&gt;&gt; ser = pd.Series(data=d, index=[&#x27;x&#x27;, &#x27;y&#x27;, &#x27;z&#x27;])\n",
              "&gt;&gt;&gt; ser\n",
              "x   NaN\n",
              "y   NaN\n",
              "z   NaN\n",
              "dtype: float64\n",
              "\n",
              "Note that the Index is first build with the keys from the dictionary.\n",
              "After this the Series is reindexed with the given Index values, hence we\n",
              "get all NaN as a result.\n",
              "\n",
              "Constructing Series from a list with `copy=False`.\n",
              "\n",
              "&gt;&gt;&gt; r = [1, 2]\n",
              "&gt;&gt;&gt; ser = pd.Series(r, copy=False)\n",
              "&gt;&gt;&gt; ser.iloc[0] = 999\n",
              "&gt;&gt;&gt; r\n",
              "[1, 2]\n",
              "&gt;&gt;&gt; ser\n",
              "0    999\n",
              "1      2\n",
              "dtype: int64\n",
              "\n",
              "Due to input data type the Series has a `copy` of\n",
              "the original data even though `copy=False`, so\n",
              "the data is unchanged.\n",
              "\n",
              "Constructing Series from a 1d ndarray with `copy=False`.\n",
              "\n",
              "&gt;&gt;&gt; r = np.array([1, 2])\n",
              "&gt;&gt;&gt; ser = pd.Series(r, copy=False)\n",
              "&gt;&gt;&gt; ser.iloc[0] = 999\n",
              "&gt;&gt;&gt; r\n",
              "array([999,   2])\n",
              "&gt;&gt;&gt; ser\n",
              "0    999\n",
              "1      2\n",
              "dtype: int64\n",
              "\n",
              "Due to input data type the Series has a `view` on\n",
              "the original data, so\n",
              "the data is changed as well.</pre>\n",
              "      <script>\n",
              "      if (google.colab.kernel.accessAllowed && google.colab.files && google.colab.files.view) {\n",
              "        for (const element of document.querySelectorAll('.filepath')) {\n",
              "          element.style.display = 'block'\n",
              "          element.onclick = (event) => {\n",
              "            event.preventDefault();\n",
              "            event.stopPropagation();\n",
              "            google.colab.files.view(element.textContent, 263);\n",
              "          };\n",
              "        }\n",
              "      }\n",
              "      for (const element of document.querySelectorAll('.function-repr-contents')) {\n",
              "        element.onclick = (event) => {\n",
              "          event.preventDefault();\n",
              "          event.stopPropagation();\n",
              "          element.classList.toggle('function-repr-contents-collapsed');\n",
              "        };\n",
              "      }\n",
              "      </script>\n",
              "      </div>"
            ]
          },
          "metadata": {},
          "execution_count": 13
        }
      ]
    },
    {
      "cell_type": "markdown",
      "metadata": {
        "id": "cI8ZE3LAP2us"
      },
      "source": [
        "In this activity, a \"word\" refers to any set of characters with no white space, even though they are not truly an English word.  That is, even though many of elements of the scrambled message vector are nonsense, and some have punctuation, you can consider each element to be a \"word\".\n",
        "\n",
        "Beware!  The object named `message` is a **pandas Series** of strings.  If you want to use functions that expect a string, rather than a series, remember `.apply()` and `lambda` functions.\n",
        "\n"
      ]
    },
    {
      "cell_type": "markdown",
      "source": [
        "\n",
        "## Warm-up exercises\n",
        "\n",
        "1. How many characters are in the scrambled message?\n",
        "2. How many of these characters are white space?\n",
        "3. How many words are in the scrambled message?\n",
        "4. Show all the punctuation marks in the scrambled message.\n",
        "5. Print out, in all capitals, the longest word in the scrambled message.\n",
        "6. Print out every piece of a word that starts with the letter \"m\" and ends with the letter \"z\" in the scrambled message."
      ],
      "metadata": {
        "id": "dYISAD8uQLAy"
      }
    },
    {
      "cell_type": "code",
      "source": [
        "#1\n",
        "sum(message.apply(len))"
      ],
      "metadata": {
        "colab": {
          "base_uri": "https://localhost:8080/"
        },
        "id": "KfwwmEozQ_uC",
        "outputId": "22488d3e-0d70-4246-eeea-eded8d33a1f3"
      },
      "execution_count": 5,
      "outputs": [
        {
          "output_type": "execute_result",
          "data": {
            "text/plain": [
              "2544"
            ]
          },
          "metadata": {},
          "execution_count": 5
        }
      ]
    },
    {
      "cell_type": "code",
      "source": [
        "#2\n",
        "sum(message.apply(lambda x: len(re.findall(r\"\\s\", x))))"
      ],
      "metadata": {
        "colab": {
          "base_uri": "https://localhost:8080/"
        },
        "id": "4QHt1UwNRFTT",
        "outputId": "cc7128a3-527c-467a-d4f7-6f48ee7b9326"
      },
      "execution_count": 6,
      "outputs": [
        {
          "output_type": "execute_result",
          "data": {
            "text/plain": [
              "1652"
            ]
          },
          "metadata": {},
          "execution_count": 6
        }
      ]
    },
    {
      "cell_type": "code",
      "source": [
        "#3\n",
        "len(message)"
      ],
      "metadata": {
        "colab": {
          "base_uri": "https://localhost:8080/"
        },
        "id": "CIb4YhWcQ8ti",
        "outputId": "e176c24c-6a00-4b06-e242-12d6fffde265"
      },
      "execution_count": 7,
      "outputs": [
        {
          "output_type": "execute_result",
          "data": {
            "text/plain": [
              "127"
            ]
          },
          "metadata": {},
          "execution_count": 7
        }
      ]
    },
    {
      "cell_type": "code",
      "source": [
        "#4\n",
        "message.apply(lambda x: len(re.findall(r\"[^\\w\\s]+\", x))).sum()"
      ],
      "metadata": {
        "colab": {
          "base_uri": "https://localhost:8080/"
        },
        "id": "Hk7ocAUqR5Ll",
        "outputId": "b2b82750-21b3-40d5-f011-508d0ad788ee"
      },
      "execution_count": 8,
      "outputs": [
        {
          "output_type": "execute_result",
          "data": {
            "text/plain": [
              "np.int64(68)"
            ]
          },
          "metadata": {},
          "execution_count": 8
        }
      ]
    },
    {
      "cell_type": "code",
      "source": [
        "#5\n",
        "message = max(message, key=len)\n",
        "message.upper()"
      ],
      "metadata": {
        "colab": {
          "base_uri": "https://localhost:8080/",
          "height": 35
        },
        "id": "-3gR5CyTR50F",
        "outputId": "2b18f05b-fa7b-43c3-8cf3-17d27f37da64"
      },
      "execution_count": 9,
      "outputs": [
        {
          "output_type": "execute_result",
          "data": {
            "text/plain": [
              "'KAUDEVILLIANUGH?AOGHAJDBN'"
            ],
            "application/vnd.google.colaboratory.intrinsic+json": {
              "type": "string"
            }
          },
          "metadata": {},
          "execution_count": 9
        }
      ]
    },
    {
      "cell_type": "code",
      "source": [
        "#6\n",
        "string = \"\".join(message)\n",
        "re.findall(r\"m\\w+z\", string)"
      ],
      "metadata": {
        "id": "6vB1tbjiQNvE",
        "colab": {
          "base_uri": "https://localhost:8080/"
        },
        "outputId": "15c89c60-44cf-47f5-8aeb-c9ebc60ec705"
      },
      "execution_count": 10,
      "outputs": [
        {
          "output_type": "execute_result",
          "data": {
            "text/plain": [
              "[]"
            ]
          },
          "metadata": {},
          "execution_count": 10
        }
      ]
    },
    {
      "cell_type": "markdown",
      "source": [
        "\n",
        "\n",
        "## Decode a message\n",
        "**Re-run the dataset to clear the apply from the practice**\n",
        "\n",
        "Complete the following steps to decode the message.  \n",
        "\n",
        "1. Remove any spaces before or after each word.\n",
        "2. Any time you see the word \"ugh\", with any number of h's, followed by a punctuation mark, delete this.\n",
        "3. No word should be longer than 16 characters. Drop all extra characters beyond 13 off the end of each word.\n",
        "4. Replace all instances of exactly 2 a's with exactly 2 e's.\n",
        "5. Replace all z's with t's.\n",
        "6. Every word that ends in b, change that to a y.  *Hint: look out for punctuation!*\n",
        "7. Every word that starts with k, change that to a v.  *Hint: look out for capitalization!*\n",
        "8. Use `.join()` to recombine all your words into a message.\n",
        "9. Find the movie this quote is from."
      ],
      "metadata": {
        "id": "l3iJnnCJQOh7"
      }
    },
    {
      "cell_type": "code",
      "source": [
        "message = message.apply(lambda x: x.strip())\n",
        "message"
      ],
      "metadata": {
        "colab": {
          "base_uri": "https://localhost:8080/",
          "height": 458
        },
        "id": "_5dVeWxEpNcS",
        "outputId": "d4aff7e1-f485-41e1-ccc7-4c80857c3731"
      },
      "execution_count": 14,
      "outputs": [
        {
          "output_type": "execute_result",
          "data": {
            "text/plain": [
              "0             Koila!\n",
              "1                 In\n",
              "2              kiew,\n",
              "3                  a\n",
              "4             humble\n",
              "           ...      \n",
              "122              you\n",
              "123          mabugh.\n",
              "124       ughhh?call\n",
              "125    meugh.ughhhh!\n",
              "126               K.\n",
              "Name: Word, Length: 127, dtype: object"
            ],
            "text/html": [
              "<div>\n",
              "<style scoped>\n",
              "    .dataframe tbody tr th:only-of-type {\n",
              "        vertical-align: middle;\n",
              "    }\n",
              "\n",
              "    .dataframe tbody tr th {\n",
              "        vertical-align: top;\n",
              "    }\n",
              "\n",
              "    .dataframe thead th {\n",
              "        text-align: right;\n",
              "    }\n",
              "</style>\n",
              "<table border=\"1\" class=\"dataframe\">\n",
              "  <thead>\n",
              "    <tr style=\"text-align: right;\">\n",
              "      <th></th>\n",
              "      <th>Word</th>\n",
              "    </tr>\n",
              "  </thead>\n",
              "  <tbody>\n",
              "    <tr>\n",
              "      <th>0</th>\n",
              "      <td>Koila!</td>\n",
              "    </tr>\n",
              "    <tr>\n",
              "      <th>1</th>\n",
              "      <td>In</td>\n",
              "    </tr>\n",
              "    <tr>\n",
              "      <th>2</th>\n",
              "      <td>kiew,</td>\n",
              "    </tr>\n",
              "    <tr>\n",
              "      <th>3</th>\n",
              "      <td>a</td>\n",
              "    </tr>\n",
              "    <tr>\n",
              "      <th>4</th>\n",
              "      <td>humble</td>\n",
              "    </tr>\n",
              "    <tr>\n",
              "      <th>...</th>\n",
              "      <td>...</td>\n",
              "    </tr>\n",
              "    <tr>\n",
              "      <th>122</th>\n",
              "      <td>you</td>\n",
              "    </tr>\n",
              "    <tr>\n",
              "      <th>123</th>\n",
              "      <td>mabugh.</td>\n",
              "    </tr>\n",
              "    <tr>\n",
              "      <th>124</th>\n",
              "      <td>ughhh?call</td>\n",
              "    </tr>\n",
              "    <tr>\n",
              "      <th>125</th>\n",
              "      <td>meugh.ughhhh!</td>\n",
              "    </tr>\n",
              "    <tr>\n",
              "      <th>126</th>\n",
              "      <td>K.</td>\n",
              "    </tr>\n",
              "  </tbody>\n",
              "</table>\n",
              "<p>127 rows × 1 columns</p>\n",
              "</div><br><label><b>dtype:</b> object</label>"
            ]
          },
          "metadata": {},
          "execution_count": 14
        }
      ]
    },
    {
      "cell_type": "code",
      "source": [
        "clean_message = message.apply(lambda x: re.sub(r\"ugh+\\b[^\\w\\s]*\", \"\", x, flags=re.IGNORECASE))\n",
        "clean_message #can we do this?"
      ],
      "metadata": {
        "colab": {
          "base_uri": "https://localhost:8080/",
          "height": 458
        },
        "id": "9aLOluk9opzF",
        "outputId": "a3bd812a-b673-4e2b-a12c-f94d2ed58bd6"
      },
      "execution_count": 15,
      "outputs": [
        {
          "output_type": "execute_result",
          "data": {
            "text/plain": [
              "0      Koila!\n",
              "1          In\n",
              "2       kiew,\n",
              "3           a\n",
              "4      humble\n",
              "        ...  \n",
              "122       you\n",
              "123       mab\n",
              "124      call\n",
              "125        me\n",
              "126        K.\n",
              "Name: Word, Length: 127, dtype: object"
            ],
            "text/html": [
              "<div>\n",
              "<style scoped>\n",
              "    .dataframe tbody tr th:only-of-type {\n",
              "        vertical-align: middle;\n",
              "    }\n",
              "\n",
              "    .dataframe tbody tr th {\n",
              "        vertical-align: top;\n",
              "    }\n",
              "\n",
              "    .dataframe thead th {\n",
              "        text-align: right;\n",
              "    }\n",
              "</style>\n",
              "<table border=\"1\" class=\"dataframe\">\n",
              "  <thead>\n",
              "    <tr style=\"text-align: right;\">\n",
              "      <th></th>\n",
              "      <th>Word</th>\n",
              "    </tr>\n",
              "  </thead>\n",
              "  <tbody>\n",
              "    <tr>\n",
              "      <th>0</th>\n",
              "      <td>Koila!</td>\n",
              "    </tr>\n",
              "    <tr>\n",
              "      <th>1</th>\n",
              "      <td>In</td>\n",
              "    </tr>\n",
              "    <tr>\n",
              "      <th>2</th>\n",
              "      <td>kiew,</td>\n",
              "    </tr>\n",
              "    <tr>\n",
              "      <th>3</th>\n",
              "      <td>a</td>\n",
              "    </tr>\n",
              "    <tr>\n",
              "      <th>4</th>\n",
              "      <td>humble</td>\n",
              "    </tr>\n",
              "    <tr>\n",
              "      <th>...</th>\n",
              "      <td>...</td>\n",
              "    </tr>\n",
              "    <tr>\n",
              "      <th>122</th>\n",
              "      <td>you</td>\n",
              "    </tr>\n",
              "    <tr>\n",
              "      <th>123</th>\n",
              "      <td>mab</td>\n",
              "    </tr>\n",
              "    <tr>\n",
              "      <th>124</th>\n",
              "      <td>call</td>\n",
              "    </tr>\n",
              "    <tr>\n",
              "      <th>125</th>\n",
              "      <td>me</td>\n",
              "    </tr>\n",
              "    <tr>\n",
              "      <th>126</th>\n",
              "      <td>K.</td>\n",
              "    </tr>\n",
              "  </tbody>\n",
              "</table>\n",
              "<p>127 rows × 1 columns</p>\n",
              "</div><br><label><b>dtype:</b> object</label>"
            ]
          },
          "metadata": {},
          "execution_count": 15
        }
      ]
    },
    {
      "cell_type": "code",
      "source": [
        "message_length = clean_message.apply(lambda x: x[:13])\n",
        "message_length"
      ],
      "metadata": {
        "colab": {
          "base_uri": "https://localhost:8080/",
          "height": 458
        },
        "id": "vsi4633HqJXB",
        "outputId": "d86be99d-ed0c-40ca-ee9a-8c032e567581"
      },
      "execution_count": 16,
      "outputs": [
        {
          "output_type": "execute_result",
          "data": {
            "text/plain": [
              "0      Koila!\n",
              "1          In\n",
              "2       kiew,\n",
              "3           a\n",
              "4      humble\n",
              "        ...  \n",
              "122       you\n",
              "123       mab\n",
              "124      call\n",
              "125        me\n",
              "126        K.\n",
              "Name: Word, Length: 127, dtype: object"
            ],
            "text/html": [
              "<div>\n",
              "<style scoped>\n",
              "    .dataframe tbody tr th:only-of-type {\n",
              "        vertical-align: middle;\n",
              "    }\n",
              "\n",
              "    .dataframe tbody tr th {\n",
              "        vertical-align: top;\n",
              "    }\n",
              "\n",
              "    .dataframe thead th {\n",
              "        text-align: right;\n",
              "    }\n",
              "</style>\n",
              "<table border=\"1\" class=\"dataframe\">\n",
              "  <thead>\n",
              "    <tr style=\"text-align: right;\">\n",
              "      <th></th>\n",
              "      <th>Word</th>\n",
              "    </tr>\n",
              "  </thead>\n",
              "  <tbody>\n",
              "    <tr>\n",
              "      <th>0</th>\n",
              "      <td>Koila!</td>\n",
              "    </tr>\n",
              "    <tr>\n",
              "      <th>1</th>\n",
              "      <td>In</td>\n",
              "    </tr>\n",
              "    <tr>\n",
              "      <th>2</th>\n",
              "      <td>kiew,</td>\n",
              "    </tr>\n",
              "    <tr>\n",
              "      <th>3</th>\n",
              "      <td>a</td>\n",
              "    </tr>\n",
              "    <tr>\n",
              "      <th>4</th>\n",
              "      <td>humble</td>\n",
              "    </tr>\n",
              "    <tr>\n",
              "      <th>...</th>\n",
              "      <td>...</td>\n",
              "    </tr>\n",
              "    <tr>\n",
              "      <th>122</th>\n",
              "      <td>you</td>\n",
              "    </tr>\n",
              "    <tr>\n",
              "      <th>123</th>\n",
              "      <td>mab</td>\n",
              "    </tr>\n",
              "    <tr>\n",
              "      <th>124</th>\n",
              "      <td>call</td>\n",
              "    </tr>\n",
              "    <tr>\n",
              "      <th>125</th>\n",
              "      <td>me</td>\n",
              "    </tr>\n",
              "    <tr>\n",
              "      <th>126</th>\n",
              "      <td>K.</td>\n",
              "    </tr>\n",
              "  </tbody>\n",
              "</table>\n",
              "<p>127 rows × 1 columns</p>\n",
              "</div><br><label><b>dtype:</b> object</label>"
            ]
          },
          "metadata": {},
          "execution_count": 16
        }
      ]
    },
    {
      "cell_type": "code",
      "source": [
        "#mod_char = message_length.apply(lambda x: re.sub(r\"a{2}\", \"e\", x))\n",
        "#mod_char"
      ],
      "metadata": {
        "id": "BoB_HgaosFpl"
      },
      "execution_count": null,
      "outputs": []
    },
    {
      "cell_type": "code",
      "source": [
        "mod_char = message_length.apply(lambda x: x.replace(\"aa\", \"ee\"))\n",
        "mod_char"
      ],
      "metadata": {
        "colab": {
          "base_uri": "https://localhost:8080/",
          "height": 458
        },
        "id": "L7nWQKdBsLMN",
        "outputId": "22270d22-f551-4de0-cf12-2554148d8cb9"
      },
      "execution_count": 17,
      "outputs": [
        {
          "output_type": "execute_result",
          "data": {
            "text/plain": [
              "0      Koila!\n",
              "1          In\n",
              "2       kiew,\n",
              "3           a\n",
              "4      humble\n",
              "        ...  \n",
              "122       you\n",
              "123       mab\n",
              "124      call\n",
              "125        me\n",
              "126        K.\n",
              "Name: Word, Length: 127, dtype: object"
            ],
            "text/html": [
              "<div>\n",
              "<style scoped>\n",
              "    .dataframe tbody tr th:only-of-type {\n",
              "        vertical-align: middle;\n",
              "    }\n",
              "\n",
              "    .dataframe tbody tr th {\n",
              "        vertical-align: top;\n",
              "    }\n",
              "\n",
              "    .dataframe thead th {\n",
              "        text-align: right;\n",
              "    }\n",
              "</style>\n",
              "<table border=\"1\" class=\"dataframe\">\n",
              "  <thead>\n",
              "    <tr style=\"text-align: right;\">\n",
              "      <th></th>\n",
              "      <th>Word</th>\n",
              "    </tr>\n",
              "  </thead>\n",
              "  <tbody>\n",
              "    <tr>\n",
              "      <th>0</th>\n",
              "      <td>Koila!</td>\n",
              "    </tr>\n",
              "    <tr>\n",
              "      <th>1</th>\n",
              "      <td>In</td>\n",
              "    </tr>\n",
              "    <tr>\n",
              "      <th>2</th>\n",
              "      <td>kiew,</td>\n",
              "    </tr>\n",
              "    <tr>\n",
              "      <th>3</th>\n",
              "      <td>a</td>\n",
              "    </tr>\n",
              "    <tr>\n",
              "      <th>4</th>\n",
              "      <td>humble</td>\n",
              "    </tr>\n",
              "    <tr>\n",
              "      <th>...</th>\n",
              "      <td>...</td>\n",
              "    </tr>\n",
              "    <tr>\n",
              "      <th>122</th>\n",
              "      <td>you</td>\n",
              "    </tr>\n",
              "    <tr>\n",
              "      <th>123</th>\n",
              "      <td>mab</td>\n",
              "    </tr>\n",
              "    <tr>\n",
              "      <th>124</th>\n",
              "      <td>call</td>\n",
              "    </tr>\n",
              "    <tr>\n",
              "      <th>125</th>\n",
              "      <td>me</td>\n",
              "    </tr>\n",
              "    <tr>\n",
              "      <th>126</th>\n",
              "      <td>K.</td>\n",
              "    </tr>\n",
              "  </tbody>\n",
              "</table>\n",
              "<p>127 rows × 1 columns</p>\n",
              "</div><br><label><b>dtype:</b> object</label>"
            ]
          },
          "metadata": {},
          "execution_count": 17
        }
      ]
    },
    {
      "cell_type": "code",
      "source": [
        "list(mod_char)"
      ],
      "metadata": {
        "colab": {
          "base_uri": "https://localhost:8080/"
        },
        "id": "A3iKNtLIswQY",
        "outputId": "2f2d0d39-7503-4bb2-da8c-d8dbf3adcae7"
      },
      "execution_count": 16,
      "outputs": [
        {
          "output_type": "execute_result",
          "data": {
            "text/plain": [
              "['Koila!',\n",
              " 'In',\n",
              " 'kiew,',\n",
              " 'a',\n",
              " 'humble',\n",
              " 'kaudevilliana',\n",
              " 'kezeran,',\n",
              " 'casz',\n",
              " 'kicariouslb',\n",
              " 'as',\n",
              " 'bozh',\n",
              " 'kiczim',\n",
              " 'and',\n",
              " 'killain',\n",
              " 'bb',\n",
              " 'zhe',\n",
              " 'kicissizudes',\n",
              " 'of',\n",
              " 'faze.',\n",
              " 'This',\n",
              " 'kisage,',\n",
              " 'no',\n",
              " 'mere',\n",
              " 'keneer',\n",
              " 'of',\n",
              " 'kanizy,',\n",
              " 'is',\n",
              " 'a',\n",
              " 'keszige',\n",
              " 'of',\n",
              " 'zhe',\n",
              " 'kox',\n",
              " 'populi',\n",
              " 'now',\n",
              " 'kacanz,',\n",
              " 'kanished.',\n",
              " 'However,',\n",
              " 'zhis',\n",
              " 'kalorous',\n",
              " 'kisizazion',\n",
              " 'of',\n",
              " 'a',\n",
              " 'bygone',\n",
              " 'kexazion',\n",
              " 'szands',\n",
              " 'kivified,',\n",
              " 'and',\n",
              " 'has',\n",
              " 'kowed',\n",
              " 'zo',\n",
              " 'kanquish',\n",
              " 'zhese',\n",
              " 'kenal',\n",
              " 'and',\n",
              " 'kirulenz',\n",
              " 'kermin,',\n",
              " 'kan',\n",
              " 'guarding',\n",
              " 'kice',\n",
              " 'and',\n",
              " 'kouchsafing',\n",
              " 'zhe',\n",
              " 'kiolenzlb',\n",
              " 'kicious',\n",
              " 'and',\n",
              " 'koracious',\n",
              " 'kiolazion',\n",
              " 'of',\n",
              " 'kolizion.',\n",
              " 'The',\n",
              " 'onlb',\n",
              " 'kerdicz',\n",
              " 'is',\n",
              " 'kengeance;',\n",
              " 'a',\n",
              " 'kendezza,',\n",
              " 'held',\n",
              " 'as',\n",
              " 'a',\n",
              " 'kozive',\n",
              " 'noz',\n",
              " 'in',\n",
              " 'kain,',\n",
              " 'for',\n",
              " 'zhe',\n",
              " 'kalue',\n",
              " 'and',\n",
              " 'keracizb',\n",
              " 'of',\n",
              " 'such',\n",
              " 'shall',\n",
              " 'one',\n",
              " 'dab',\n",
              " 'kindicaze',\n",
              " 'zhe',\n",
              " 'kigilanz',\n",
              " 'and',\n",
              " 'zhe',\n",
              " 'kirzuous.',\n",
              " 'Kerilb',\n",
              " 'zhis',\n",
              " 'kichyssoise',\n",
              " 'of',\n",
              " 'kerbiage',\n",
              " 'keers',\n",
              " 'mosz',\n",
              " 'kerbose,',\n",
              " 'so',\n",
              " 'lez',\n",
              " 'me',\n",
              " 'simplb',\n",
              " 'add',\n",
              " 'zhaz',\n",
              " 'izs',\n",
              " 'mb',\n",
              " 'kerb',\n",
              " 'good',\n",
              " 'honour',\n",
              " 'zo',\n",
              " 'meez',\n",
              " 'you',\n",
              " 'and',\n",
              " 'you',\n",
              " 'mab',\n",
              " 'call',\n",
              " 'me',\n",
              " 'K.']"
            ]
          },
          "metadata": {},
          "execution_count": 16
        }
      ]
    },
    {
      "cell_type": "code",
      "source": [
        "mod_char2 = mod_char.apply(lambda x: x.replace(\"z\", \"t\"))\n",
        "list(mod_char2)"
      ],
      "metadata": {
        "colab": {
          "base_uri": "https://localhost:8080/"
        },
        "id": "7P74BFpYtkR0",
        "outputId": "ef5acb56-fb7a-406f-f6af-8980fb97ffac"
      },
      "execution_count": 18,
      "outputs": [
        {
          "output_type": "execute_result",
          "data": {
            "text/plain": [
              "['Koila!',\n",
              " 'In',\n",
              " 'kiew,',\n",
              " 'a',\n",
              " 'humble',\n",
              " 'kaudevilliana',\n",
              " 'keteran,',\n",
              " 'cast',\n",
              " 'kicariouslb',\n",
              " 'as',\n",
              " 'both',\n",
              " 'kictim',\n",
              " 'and',\n",
              " 'killain',\n",
              " 'bb',\n",
              " 'the',\n",
              " 'kicissitudes',\n",
              " 'of',\n",
              " 'fate.',\n",
              " 'This',\n",
              " 'kisage,',\n",
              " 'no',\n",
              " 'mere',\n",
              " 'keneer',\n",
              " 'of',\n",
              " 'kanity,',\n",
              " 'is',\n",
              " 'a',\n",
              " 'kestige',\n",
              " 'of',\n",
              " 'the',\n",
              " 'kox',\n",
              " 'populi',\n",
              " 'now',\n",
              " 'kacant,',\n",
              " 'kanished.',\n",
              " 'However,',\n",
              " 'this',\n",
              " 'kalorous',\n",
              " 'kisitation',\n",
              " 'of',\n",
              " 'a',\n",
              " 'bygone',\n",
              " 'kexation',\n",
              " 'stands',\n",
              " 'kivified,',\n",
              " 'and',\n",
              " 'has',\n",
              " 'kowed',\n",
              " 'to',\n",
              " 'kanquish',\n",
              " 'these',\n",
              " 'kenal',\n",
              " 'and',\n",
              " 'kirulent',\n",
              " 'kermin,',\n",
              " 'kan',\n",
              " 'guarding',\n",
              " 'kice',\n",
              " 'and',\n",
              " 'kouchsafing',\n",
              " 'the',\n",
              " 'kiolentlb',\n",
              " 'kicious',\n",
              " 'and',\n",
              " 'koracious',\n",
              " 'kiolation',\n",
              " 'of',\n",
              " 'kolition.',\n",
              " 'The',\n",
              " 'onlb',\n",
              " 'kerdict',\n",
              " 'is',\n",
              " 'kengeance;',\n",
              " 'a',\n",
              " 'kendetta,',\n",
              " 'held',\n",
              " 'as',\n",
              " 'a',\n",
              " 'kotive',\n",
              " 'not',\n",
              " 'in',\n",
              " 'kain,',\n",
              " 'for',\n",
              " 'the',\n",
              " 'kalue',\n",
              " 'and',\n",
              " 'keracitb',\n",
              " 'of',\n",
              " 'such',\n",
              " 'shall',\n",
              " 'one',\n",
              " 'dab',\n",
              " 'kindicate',\n",
              " 'the',\n",
              " 'kigilant',\n",
              " 'and',\n",
              " 'the',\n",
              " 'kirtuous.',\n",
              " 'Kerilb',\n",
              " 'this',\n",
              " 'kichyssoise',\n",
              " 'of',\n",
              " 'kerbiage',\n",
              " 'keers',\n",
              " 'most',\n",
              " 'kerbose,',\n",
              " 'so',\n",
              " 'let',\n",
              " 'me',\n",
              " 'simplb',\n",
              " 'add',\n",
              " 'that',\n",
              " 'its',\n",
              " 'mb',\n",
              " 'kerb',\n",
              " 'good',\n",
              " 'honour',\n",
              " 'to',\n",
              " 'meet',\n",
              " 'you',\n",
              " 'and',\n",
              " 'you',\n",
              " 'mab',\n",
              " 'call',\n",
              " 'me',\n",
              " 'K.']"
            ]
          },
          "metadata": {},
          "execution_count": 18
        }
      ]
    },
    {
      "cell_type": "code",
      "source": [
        "#mod_cap = mod_char2.apply(lambda x: x.replace(\"k\", \"v\").replace(\"K\", \"v\"))\n",
        "#list(mod_cap)"
      ],
      "metadata": {
        "colab": {
          "base_uri": "https://localhost:8080/",
          "height": 287
        },
        "id": "udvhz8cJugsF",
        "outputId": "e602a93e-9926-46be-e00b-2be67df1fce1"
      },
      "execution_count": 18,
      "outputs": [
        {
          "output_type": "error",
          "ename": "TypeError",
          "evalue": "unsupported operand type(s) for &: 'str' and 'str'",
          "traceback": [
            "\u001b[0;31m---------------------------------------------------------------------------\u001b[0m",
            "\u001b[0;31mTypeError\u001b[0m                                 Traceback (most recent call last)",
            "\u001b[0;32m/tmp/ipython-input-4264045129.py\u001b[0m in \u001b[0;36m<cell line: 0>\u001b[0;34m()\u001b[0m\n\u001b[0;32m----> 1\u001b[0;31m \u001b[0mmod_cap\u001b[0m \u001b[0;34m=\u001b[0m \u001b[0mmod_char2\u001b[0m\u001b[0;34m.\u001b[0m\u001b[0mapply\u001b[0m\u001b[0;34m(\u001b[0m\u001b[0;32mlambda\u001b[0m \u001b[0mx\u001b[0m\u001b[0;34m:\u001b[0m \u001b[0mx\u001b[0m\u001b[0;34m.\u001b[0m\u001b[0mreplace\u001b[0m\u001b[0;34m(\u001b[0m\u001b[0;34m\"k\"\u001b[0m\u001b[0;34m,\u001b[0m \u001b[0;34m\"v\"\u001b[0m\u001b[0;34m)\u001b[0m \u001b[0;34m&\u001b[0m \u001b[0mx\u001b[0m\u001b[0;34m.\u001b[0m\u001b[0mreplace\u001b[0m\u001b[0;34m(\u001b[0m\u001b[0;34m\"K\"\u001b[0m\u001b[0;34m,\u001b[0m \u001b[0;34m\"v\"\u001b[0m\u001b[0;34m)\u001b[0m\u001b[0;34m)\u001b[0m\u001b[0;34m\u001b[0m\u001b[0;34m\u001b[0m\u001b[0m\n\u001b[0m\u001b[1;32m      2\u001b[0m \u001b[0mlist\u001b[0m\u001b[0;34m(\u001b[0m\u001b[0mmod_cap\u001b[0m\u001b[0;34m)\u001b[0m\u001b[0;34m\u001b[0m\u001b[0;34m\u001b[0m\u001b[0m\n",
            "\u001b[0;32m/usr/local/lib/python3.12/dist-packages/pandas/core/series.py\u001b[0m in \u001b[0;36mapply\u001b[0;34m(self, func, convert_dtype, args, by_row, **kwargs)\u001b[0m\n\u001b[1;32m   4922\u001b[0m             \u001b[0margs\u001b[0m\u001b[0;34m=\u001b[0m\u001b[0margs\u001b[0m\u001b[0;34m,\u001b[0m\u001b[0;34m\u001b[0m\u001b[0;34m\u001b[0m\u001b[0m\n\u001b[1;32m   4923\u001b[0m             \u001b[0mkwargs\u001b[0m\u001b[0;34m=\u001b[0m\u001b[0mkwargs\u001b[0m\u001b[0;34m,\u001b[0m\u001b[0;34m\u001b[0m\u001b[0;34m\u001b[0m\u001b[0m\n\u001b[0;32m-> 4924\u001b[0;31m         ).apply()\n\u001b[0m\u001b[1;32m   4925\u001b[0m \u001b[0;34m\u001b[0m\u001b[0m\n\u001b[1;32m   4926\u001b[0m     def _reindex_indexer(\n",
            "\u001b[0;32m/usr/local/lib/python3.12/dist-packages/pandas/core/apply.py\u001b[0m in \u001b[0;36mapply\u001b[0;34m(self)\u001b[0m\n\u001b[1;32m   1425\u001b[0m \u001b[0;34m\u001b[0m\u001b[0m\n\u001b[1;32m   1426\u001b[0m         \u001b[0;31m# self.func is Callable\u001b[0m\u001b[0;34m\u001b[0m\u001b[0;34m\u001b[0m\u001b[0m\n\u001b[0;32m-> 1427\u001b[0;31m         \u001b[0;32mreturn\u001b[0m \u001b[0mself\u001b[0m\u001b[0;34m.\u001b[0m\u001b[0mapply_standard\u001b[0m\u001b[0;34m(\u001b[0m\u001b[0;34m)\u001b[0m\u001b[0;34m\u001b[0m\u001b[0;34m\u001b[0m\u001b[0m\n\u001b[0m\u001b[1;32m   1428\u001b[0m \u001b[0;34m\u001b[0m\u001b[0m\n\u001b[1;32m   1429\u001b[0m     \u001b[0;32mdef\u001b[0m \u001b[0magg\u001b[0m\u001b[0;34m(\u001b[0m\u001b[0mself\u001b[0m\u001b[0;34m)\u001b[0m\u001b[0;34m:\u001b[0m\u001b[0;34m\u001b[0m\u001b[0;34m\u001b[0m\u001b[0m\n",
            "\u001b[0;32m/usr/local/lib/python3.12/dist-packages/pandas/core/apply.py\u001b[0m in \u001b[0;36mapply_standard\u001b[0;34m(self)\u001b[0m\n\u001b[1;32m   1505\u001b[0m         \u001b[0;31m#  Categorical (GH51645).\u001b[0m\u001b[0;34m\u001b[0m\u001b[0;34m\u001b[0m\u001b[0m\n\u001b[1;32m   1506\u001b[0m         \u001b[0maction\u001b[0m \u001b[0;34m=\u001b[0m \u001b[0;34m\"ignore\"\u001b[0m \u001b[0;32mif\u001b[0m \u001b[0misinstance\u001b[0m\u001b[0;34m(\u001b[0m\u001b[0mobj\u001b[0m\u001b[0;34m.\u001b[0m\u001b[0mdtype\u001b[0m\u001b[0;34m,\u001b[0m \u001b[0mCategoricalDtype\u001b[0m\u001b[0;34m)\u001b[0m \u001b[0;32melse\u001b[0m \u001b[0;32mNone\u001b[0m\u001b[0;34m\u001b[0m\u001b[0;34m\u001b[0m\u001b[0m\n\u001b[0;32m-> 1507\u001b[0;31m         mapped = obj._map_values(\n\u001b[0m\u001b[1;32m   1508\u001b[0m             \u001b[0mmapper\u001b[0m\u001b[0;34m=\u001b[0m\u001b[0mcurried\u001b[0m\u001b[0;34m,\u001b[0m \u001b[0mna_action\u001b[0m\u001b[0;34m=\u001b[0m\u001b[0maction\u001b[0m\u001b[0;34m,\u001b[0m \u001b[0mconvert\u001b[0m\u001b[0;34m=\u001b[0m\u001b[0mself\u001b[0m\u001b[0;34m.\u001b[0m\u001b[0mconvert_dtype\u001b[0m\u001b[0;34m\u001b[0m\u001b[0;34m\u001b[0m\u001b[0m\n\u001b[1;32m   1509\u001b[0m         )\n",
            "\u001b[0;32m/usr/local/lib/python3.12/dist-packages/pandas/core/base.py\u001b[0m in \u001b[0;36m_map_values\u001b[0;34m(self, mapper, na_action, convert)\u001b[0m\n\u001b[1;32m    919\u001b[0m             \u001b[0;32mreturn\u001b[0m \u001b[0marr\u001b[0m\u001b[0;34m.\u001b[0m\u001b[0mmap\u001b[0m\u001b[0;34m(\u001b[0m\u001b[0mmapper\u001b[0m\u001b[0;34m,\u001b[0m \u001b[0mna_action\u001b[0m\u001b[0;34m=\u001b[0m\u001b[0mna_action\u001b[0m\u001b[0;34m)\u001b[0m\u001b[0;34m\u001b[0m\u001b[0;34m\u001b[0m\u001b[0m\n\u001b[1;32m    920\u001b[0m \u001b[0;34m\u001b[0m\u001b[0m\n\u001b[0;32m--> 921\u001b[0;31m         \u001b[0;32mreturn\u001b[0m \u001b[0malgorithms\u001b[0m\u001b[0;34m.\u001b[0m\u001b[0mmap_array\u001b[0m\u001b[0;34m(\u001b[0m\u001b[0marr\u001b[0m\u001b[0;34m,\u001b[0m \u001b[0mmapper\u001b[0m\u001b[0;34m,\u001b[0m \u001b[0mna_action\u001b[0m\u001b[0;34m=\u001b[0m\u001b[0mna_action\u001b[0m\u001b[0;34m,\u001b[0m \u001b[0mconvert\u001b[0m\u001b[0;34m=\u001b[0m\u001b[0mconvert\u001b[0m\u001b[0;34m)\u001b[0m\u001b[0;34m\u001b[0m\u001b[0;34m\u001b[0m\u001b[0m\n\u001b[0m\u001b[1;32m    922\u001b[0m \u001b[0;34m\u001b[0m\u001b[0m\n\u001b[1;32m    923\u001b[0m     \u001b[0;34m@\u001b[0m\u001b[0mfinal\u001b[0m\u001b[0;34m\u001b[0m\u001b[0;34m\u001b[0m\u001b[0m\n",
            "\u001b[0;32m/usr/local/lib/python3.12/dist-packages/pandas/core/algorithms.py\u001b[0m in \u001b[0;36mmap_array\u001b[0;34m(arr, mapper, na_action, convert)\u001b[0m\n\u001b[1;32m   1741\u001b[0m     \u001b[0mvalues\u001b[0m \u001b[0;34m=\u001b[0m \u001b[0marr\u001b[0m\u001b[0;34m.\u001b[0m\u001b[0mastype\u001b[0m\u001b[0;34m(\u001b[0m\u001b[0mobject\u001b[0m\u001b[0;34m,\u001b[0m \u001b[0mcopy\u001b[0m\u001b[0;34m=\u001b[0m\u001b[0;32mFalse\u001b[0m\u001b[0;34m)\u001b[0m\u001b[0;34m\u001b[0m\u001b[0;34m\u001b[0m\u001b[0m\n\u001b[1;32m   1742\u001b[0m     \u001b[0;32mif\u001b[0m \u001b[0mna_action\u001b[0m \u001b[0;32mis\u001b[0m \u001b[0;32mNone\u001b[0m\u001b[0;34m:\u001b[0m\u001b[0;34m\u001b[0m\u001b[0;34m\u001b[0m\u001b[0m\n\u001b[0;32m-> 1743\u001b[0;31m         \u001b[0;32mreturn\u001b[0m \u001b[0mlib\u001b[0m\u001b[0;34m.\u001b[0m\u001b[0mmap_infer\u001b[0m\u001b[0;34m(\u001b[0m\u001b[0mvalues\u001b[0m\u001b[0;34m,\u001b[0m \u001b[0mmapper\u001b[0m\u001b[0;34m,\u001b[0m \u001b[0mconvert\u001b[0m\u001b[0;34m=\u001b[0m\u001b[0mconvert\u001b[0m\u001b[0;34m)\u001b[0m\u001b[0;34m\u001b[0m\u001b[0;34m\u001b[0m\u001b[0m\n\u001b[0m\u001b[1;32m   1744\u001b[0m     \u001b[0;32melse\u001b[0m\u001b[0;34m:\u001b[0m\u001b[0;34m\u001b[0m\u001b[0;34m\u001b[0m\u001b[0m\n\u001b[1;32m   1745\u001b[0m         return lib.map_infer_mask(\n",
            "\u001b[0;32mlib.pyx\u001b[0m in \u001b[0;36mpandas._libs.lib.map_infer\u001b[0;34m()\u001b[0m\n",
            "\u001b[0;32m/tmp/ipython-input-4264045129.py\u001b[0m in \u001b[0;36m<lambda>\u001b[0;34m(x)\u001b[0m\n\u001b[0;32m----> 1\u001b[0;31m \u001b[0mmod_cap\u001b[0m \u001b[0;34m=\u001b[0m \u001b[0mmod_char2\u001b[0m\u001b[0;34m.\u001b[0m\u001b[0mapply\u001b[0m\u001b[0;34m(\u001b[0m\u001b[0;32mlambda\u001b[0m \u001b[0mx\u001b[0m\u001b[0;34m:\u001b[0m \u001b[0mx\u001b[0m\u001b[0;34m.\u001b[0m\u001b[0mreplace\u001b[0m\u001b[0;34m(\u001b[0m\u001b[0;34m\"k\"\u001b[0m\u001b[0;34m,\u001b[0m \u001b[0;34m\"v\"\u001b[0m\u001b[0;34m)\u001b[0m \u001b[0;34m&\u001b[0m \u001b[0mx\u001b[0m\u001b[0;34m.\u001b[0m\u001b[0mreplace\u001b[0m\u001b[0;34m(\u001b[0m\u001b[0;34m\"K\"\u001b[0m\u001b[0;34m,\u001b[0m \u001b[0;34m\"v\"\u001b[0m\u001b[0;34m)\u001b[0m\u001b[0;34m)\u001b[0m\u001b[0;34m\u001b[0m\u001b[0;34m\u001b[0m\u001b[0m\n\u001b[0m\u001b[1;32m      2\u001b[0m \u001b[0mlist\u001b[0m\u001b[0;34m(\u001b[0m\u001b[0mmod_cap\u001b[0m\u001b[0;34m)\u001b[0m\u001b[0;34m\u001b[0m\u001b[0;34m\u001b[0m\u001b[0m\n",
            "\u001b[0;31mTypeError\u001b[0m: unsupported operand type(s) for &: 'str' and 'str'"
          ]
        }
      ]
    },
    {
      "cell_type": "code",
      "source": [
        "mod_cap = mod_char2.apply(lambda x: re.sub(r\"[Kk]\", \"v\", x, flags=re.IGNORECASE))\n",
        "list(mod_cap)"
      ],
      "metadata": {
        "colab": {
          "base_uri": "https://localhost:8080/"
        },
        "id": "oVjMzLdxG3p5",
        "outputId": "19c571a1-04a5-4702-a8a2-59c125584211"
      },
      "execution_count": 19,
      "outputs": [
        {
          "output_type": "execute_result",
          "data": {
            "text/plain": [
              "['voila!',\n",
              " 'In',\n",
              " 'view,',\n",
              " 'a',\n",
              " 'humble',\n",
              " 'vaudevilliana',\n",
              " 'veteran,',\n",
              " 'cast',\n",
              " 'vicariouslb',\n",
              " 'as',\n",
              " 'both',\n",
              " 'victim',\n",
              " 'and',\n",
              " 'villain',\n",
              " 'bb',\n",
              " 'the',\n",
              " 'vicissitudes',\n",
              " 'of',\n",
              " 'fate.',\n",
              " 'This',\n",
              " 'visage,',\n",
              " 'no',\n",
              " 'mere',\n",
              " 'veneer',\n",
              " 'of',\n",
              " 'vanity,',\n",
              " 'is',\n",
              " 'a',\n",
              " 'vestige',\n",
              " 'of',\n",
              " 'the',\n",
              " 'vox',\n",
              " 'populi',\n",
              " 'now',\n",
              " 'vacant,',\n",
              " 'vanished.',\n",
              " 'However,',\n",
              " 'this',\n",
              " 'valorous',\n",
              " 'visitation',\n",
              " 'of',\n",
              " 'a',\n",
              " 'bygone',\n",
              " 'vexation',\n",
              " 'stands',\n",
              " 'vivified,',\n",
              " 'and',\n",
              " 'has',\n",
              " 'vowed',\n",
              " 'to',\n",
              " 'vanquish',\n",
              " 'these',\n",
              " 'venal',\n",
              " 'and',\n",
              " 'virulent',\n",
              " 'vermin,',\n",
              " 'van',\n",
              " 'guarding',\n",
              " 'vice',\n",
              " 'and',\n",
              " 'vouchsafing',\n",
              " 'the',\n",
              " 'violentlb',\n",
              " 'vicious',\n",
              " 'and',\n",
              " 'voracious',\n",
              " 'violation',\n",
              " 'of',\n",
              " 'volition.',\n",
              " 'The',\n",
              " 'onlb',\n",
              " 'verdict',\n",
              " 'is',\n",
              " 'vengeance;',\n",
              " 'a',\n",
              " 'vendetta,',\n",
              " 'held',\n",
              " 'as',\n",
              " 'a',\n",
              " 'votive',\n",
              " 'not',\n",
              " 'in',\n",
              " 'vain,',\n",
              " 'for',\n",
              " 'the',\n",
              " 'value',\n",
              " 'and',\n",
              " 'veracitb',\n",
              " 'of',\n",
              " 'such',\n",
              " 'shall',\n",
              " 'one',\n",
              " 'dab',\n",
              " 'vindicate',\n",
              " 'the',\n",
              " 'vigilant',\n",
              " 'and',\n",
              " 'the',\n",
              " 'virtuous.',\n",
              " 'verilb',\n",
              " 'this',\n",
              " 'vichyssoise',\n",
              " 'of',\n",
              " 'verbiage',\n",
              " 'veers',\n",
              " 'most',\n",
              " 'verbose,',\n",
              " 'so',\n",
              " 'let',\n",
              " 'me',\n",
              " 'simplb',\n",
              " 'add',\n",
              " 'that',\n",
              " 'its',\n",
              " 'mb',\n",
              " 'verb',\n",
              " 'good',\n",
              " 'honour',\n",
              " 'to',\n",
              " 'meet',\n",
              " 'you',\n",
              " 'and',\n",
              " 'you',\n",
              " 'mab',\n",
              " 'call',\n",
              " 'me',\n",
              " 'v.']"
            ]
          },
          "metadata": {},
          "execution_count": 19
        }
      ]
    },
    {
      "cell_type": "code",
      "source": [
        "complete_phrase = \", \".join(mod_cap)\n",
        "complete_phrase"
      ],
      "metadata": {
        "colab": {
          "base_uri": "https://localhost:8080/",
          "height": 87
        },
        "id": "cDODUDCotbX7",
        "outputId": "936c2df1-d925-405a-8bd8-8691d2a12827"
      },
      "execution_count": 20,
      "outputs": [
        {
          "output_type": "execute_result",
          "data": {
            "text/plain": [
              "'voila!, In, view,, a, humble, vaudevilliana, veteran,, cast, vicariouslb, as, both, victim, and, villain, bb, the, vicissitudes, of, fate., This, visage,, no, mere, veneer, of, vanity,, is, a, vestige, of, the, vox, populi, now, vacant,, vanished., However,, this, valorous, visitation, of, a, bygone, vexation, stands, vivified,, and, has, vowed, to, vanquish, these, venal, and, virulent, vermin,, van, guarding, vice, and, vouchsafing, the, violentlb, vicious, and, voracious, violation, of, volition., The, onlb, verdict, is, vengeance;, a, vendetta,, held, as, a, votive, not, in, vain,, for, the, value, and, veracitb, of, such, shall, one, dab, vindicate, the, vigilant, and, the, virtuous., verilb, this, vichyssoise, of, verbiage, veers, most, verbose,, so, let, me, simplb, add, that, its, mb, verb, good, honour, to, meet, you, and, you, mab, call, me, v.'"
            ],
            "application/vnd.google.colaboratory.intrinsic+json": {
              "type": "string"
            }
          },
          "metadata": {},
          "execution_count": 20
        }
      ]
    },
    {
      "cell_type": "markdown",
      "source": [
        "####Diff approach"
      ],
      "metadata": {
        "id": "wHh-xixgxjy2"
      }
    },
    {
      "cell_type": "code",
      "source": [
        "message = list(map(lambda x: x.strip(), message))\n",
        "message"
      ],
      "metadata": {
        "id": "RRfjUzxMQQ5j",
        "colab": {
          "base_uri": "https://localhost:8080/"
        },
        "outputId": "9c0f4910-c84d-4e57-9c7b-dc309f49f80c"
      },
      "execution_count": 2,
      "outputs": [
        {
          "output_type": "execute_result",
          "data": {
            "text/plain": [
              "['Koila!',\n",
              " 'In',\n",
              " 'kiew,',\n",
              " 'a',\n",
              " 'humble',\n",
              " 'kaudevillianugh?aoghajdbn',\n",
              " 'kezeran,',\n",
              " 'casz',\n",
              " 'kicariouslb',\n",
              " 'as',\n",
              " 'bozh',\n",
              " 'kiczim',\n",
              " 'ughhh!and',\n",
              " 'killain',\n",
              " 'bb',\n",
              " 'zhe',\n",
              " 'kicissizudes',\n",
              " 'ughhh!of',\n",
              " 'faze.',\n",
              " 'Thisughhhh!',\n",
              " 'kisage,',\n",
              " 'noughhhh!',\n",
              " 'ughhh?mereugh?',\n",
              " 'kenaar',\n",
              " 'ughhh?ofugh?',\n",
              " 'ughhh?kanizy,',\n",
              " 'ughhh?is',\n",
              " 'a',\n",
              " 'keszige',\n",
              " 'of',\n",
              " 'zhe',\n",
              " 'kox',\n",
              " 'ughhh!populi',\n",
              " 'now',\n",
              " 'kacanz,',\n",
              " 'kanished.ugh?',\n",
              " 'However,',\n",
              " 'zhis',\n",
              " 'kalorous',\n",
              " 'kisizazion',\n",
              " 'of',\n",
              " 'a',\n",
              " 'bygone',\n",
              " 'kexazion',\n",
              " 'szands',\n",
              " 'kivified,',\n",
              " 'ughhh!and',\n",
              " 'hasugh.',\n",
              " 'kowed',\n",
              " 'zoughhhh!',\n",
              " 'kanquish',\n",
              " 'zhese',\n",
              " 'kenalugh?',\n",
              " 'andughhhh!',\n",
              " 'ughhh!kirulenz',\n",
              " 'kermin,',\n",
              " 'kan',\n",
              " 'guarding',\n",
              " 'kiceugh.',\n",
              " 'and',\n",
              " 'kouchsafingugh?',\n",
              " 'zhe',\n",
              " 'kiolenzlb',\n",
              " 'kicious',\n",
              " 'ughhh?and',\n",
              " 'koraciousugh?',\n",
              " 'kiolazion',\n",
              " 'of',\n",
              " 'kolizion.ugh?',\n",
              " 'ughhh?Theugh.',\n",
              " 'onlb',\n",
              " 'kerdicz',\n",
              " 'isugh.',\n",
              " 'kengeance;',\n",
              " 'a',\n",
              " 'ughhh?kendezza,',\n",
              " 'heldughhhh!',\n",
              " 'ughhh!as',\n",
              " 'a',\n",
              " 'kozive',\n",
              " 'noz',\n",
              " 'in',\n",
              " 'kain,',\n",
              " 'forugh.',\n",
              " 'zhe',\n",
              " 'kalue',\n",
              " 'andugh?',\n",
              " 'keracizb',\n",
              " 'ofugh.',\n",
              " 'such',\n",
              " 'shall',\n",
              " 'ughhh?one',\n",
              " 'dabugh.',\n",
              " 'kindicaze',\n",
              " 'zheughhhh!',\n",
              " 'kigilanzughhhh!',\n",
              " 'and',\n",
              " 'zhe',\n",
              " 'kirzuous.',\n",
              " 'Kerilb',\n",
              " 'zhis',\n",
              " 'kichyssoise',\n",
              " 'ughhh!of',\n",
              " 'ughhh!kerbiage',\n",
              " 'kaars',\n",
              " 'moszugh?',\n",
              " 'kerbose,',\n",
              " 'so',\n",
              " 'lez',\n",
              " 'me',\n",
              " 'simplb',\n",
              " 'addughhhh!',\n",
              " 'zhaz',\n",
              " 'izs',\n",
              " 'mb',\n",
              " 'ughhh?kerb',\n",
              " 'good',\n",
              " 'honourugh.',\n",
              " 'zoughhhh!',\n",
              " 'ughhh!maaz',\n",
              " 'you',\n",
              " 'ughhh!and',\n",
              " 'you',\n",
              " 'mabugh.',\n",
              " 'ughhh?call',\n",
              " 'meugh.ughhhh!',\n",
              " 'K.']"
            ]
          },
          "metadata": {},
          "execution_count": 2
        }
      ]
    },
    {
      "cell_type": "code",
      "source": [
        "type(message)"
      ],
      "metadata": {
        "colab": {
          "base_uri": "https://localhost:8080/"
        },
        "id": "mKHAmIwUFUMe",
        "outputId": "1e748495-f47f-44d7-eef6-936762af7908"
      },
      "execution_count": 5,
      "outputs": [
        {
          "output_type": "execute_result",
          "data": {
            "text/plain": [
              "list"
            ]
          },
          "metadata": {},
          "execution_count": 5
        }
      ]
    },
    {
      "cell_type": "code",
      "source": [
        "clean_message = message.apply(lambda x: re.sub(r\"ugh+\\b[^\\w\\s]*\", \"\", x, flags=re.IGNORECASE))\n",
        "clean_message"
      ],
      "metadata": {
        "colab": {
          "base_uri": "https://localhost:8080/",
          "height": 159
        },
        "id": "VmctIO8lFA6T",
        "outputId": "267761f5-e871-420e-e0bf-dbdf0d881d5b"
      },
      "execution_count": 3,
      "outputs": [
        {
          "output_type": "error",
          "ename": "AttributeError",
          "evalue": "'list' object has no attribute 'apply'",
          "traceback": [
            "\u001b[0;31m---------------------------------------------------------------------------\u001b[0m",
            "\u001b[0;31mAttributeError\u001b[0m                            Traceback (most recent call last)",
            "\u001b[0;32m/tmp/ipython-input-2577135885.py\u001b[0m in \u001b[0;36m<cell line: 0>\u001b[0;34m()\u001b[0m\n\u001b[0;32m----> 1\u001b[0;31m \u001b[0mclean_message\u001b[0m \u001b[0;34m=\u001b[0m \u001b[0mmessage\u001b[0m\u001b[0;34m.\u001b[0m\u001b[0mapply\u001b[0m\u001b[0;34m(\u001b[0m\u001b[0;32mlambda\u001b[0m \u001b[0mx\u001b[0m\u001b[0;34m:\u001b[0m \u001b[0mre\u001b[0m\u001b[0;34m.\u001b[0m\u001b[0msub\u001b[0m\u001b[0;34m(\u001b[0m\u001b[0;34mr\"ugh+\\b[^\\w\\s]*\"\u001b[0m\u001b[0;34m,\u001b[0m \u001b[0;34m\"\"\u001b[0m\u001b[0;34m,\u001b[0m \u001b[0mx\u001b[0m\u001b[0;34m,\u001b[0m \u001b[0mflags\u001b[0m\u001b[0;34m=\u001b[0m\u001b[0mre\u001b[0m\u001b[0;34m.\u001b[0m\u001b[0mIGNORECASE\u001b[0m\u001b[0;34m)\u001b[0m\u001b[0;34m)\u001b[0m\u001b[0;34m\u001b[0m\u001b[0;34m\u001b[0m\u001b[0m\n\u001b[0m\u001b[1;32m      2\u001b[0m \u001b[0mclean_message\u001b[0m\u001b[0;34m\u001b[0m\u001b[0;34m\u001b[0m\u001b[0m\n",
            "\u001b[0;31mAttributeError\u001b[0m: 'list' object has no attribute 'apply'"
          ]
        }
      ]
    },
    {
      "cell_type": "code",
      "source": [
        "message = list(map(lambda x: re.sub(r\"ugh+\\b[^\\w\\s]*\", \"\", x, flags=re.IGNORECASE), message))\n",
        "message"
      ],
      "metadata": {
        "colab": {
          "base_uri": "https://localhost:8080/"
        },
        "id": "YzGL8x2EnSNx",
        "outputId": "83c14414-c941-44b5-8982-8944d3dc8103"
      },
      "execution_count": 6,
      "outputs": [
        {
          "output_type": "execute_result",
          "data": {
            "text/plain": [
              "['Koila!',\n",
              " 'In',\n",
              " 'kiew,',\n",
              " 'a',\n",
              " 'humble',\n",
              " 'kaudevillianaoghajdbn',\n",
              " 'kezeran,',\n",
              " 'casz',\n",
              " 'kicariouslb',\n",
              " 'as',\n",
              " 'bozh',\n",
              " 'kiczim',\n",
              " 'and',\n",
              " 'killain',\n",
              " 'bb',\n",
              " 'zhe',\n",
              " 'kicissizudes',\n",
              " 'of',\n",
              " 'faze.',\n",
              " 'This',\n",
              " 'kisage,',\n",
              " 'no',\n",
              " 'mere',\n",
              " 'kenaar',\n",
              " 'of',\n",
              " 'kanizy,',\n",
              " 'is',\n",
              " 'a',\n",
              " 'keszige',\n",
              " 'of',\n",
              " 'zhe',\n",
              " 'kox',\n",
              " 'populi',\n",
              " 'now',\n",
              " 'kacanz,',\n",
              " 'kanished.',\n",
              " 'However,',\n",
              " 'zhis',\n",
              " 'kalorous',\n",
              " 'kisizazion',\n",
              " 'of',\n",
              " 'a',\n",
              " 'bygone',\n",
              " 'kexazion',\n",
              " 'szands',\n",
              " 'kivified,',\n",
              " 'and',\n",
              " 'has',\n",
              " 'kowed',\n",
              " 'zo',\n",
              " 'kanquish',\n",
              " 'zhese',\n",
              " 'kenal',\n",
              " 'and',\n",
              " 'kirulenz',\n",
              " 'kermin,',\n",
              " 'kan',\n",
              " 'guarding',\n",
              " 'kice',\n",
              " 'and',\n",
              " 'kouchsafing',\n",
              " 'zhe',\n",
              " 'kiolenzlb',\n",
              " 'kicious',\n",
              " 'and',\n",
              " 'koracious',\n",
              " 'kiolazion',\n",
              " 'of',\n",
              " 'kolizion.',\n",
              " 'The',\n",
              " 'onlb',\n",
              " 'kerdicz',\n",
              " 'is',\n",
              " 'kengeance;',\n",
              " 'a',\n",
              " 'kendezza,',\n",
              " 'held',\n",
              " 'as',\n",
              " 'a',\n",
              " 'kozive',\n",
              " 'noz',\n",
              " 'in',\n",
              " 'kain,',\n",
              " 'for',\n",
              " 'zhe',\n",
              " 'kalue',\n",
              " 'and',\n",
              " 'keracizb',\n",
              " 'of',\n",
              " 'such',\n",
              " 'shall',\n",
              " 'one',\n",
              " 'dab',\n",
              " 'kindicaze',\n",
              " 'zhe',\n",
              " 'kigilanz',\n",
              " 'and',\n",
              " 'zhe',\n",
              " 'kirzuous.',\n",
              " 'Kerilb',\n",
              " 'zhis',\n",
              " 'kichyssoise',\n",
              " 'of',\n",
              " 'kerbiage',\n",
              " 'kaars',\n",
              " 'mosz',\n",
              " 'kerbose,',\n",
              " 'so',\n",
              " 'lez',\n",
              " 'me',\n",
              " 'simplb',\n",
              " 'add',\n",
              " 'zhaz',\n",
              " 'izs',\n",
              " 'mb',\n",
              " 'kerb',\n",
              " 'good',\n",
              " 'honour',\n",
              " 'zo',\n",
              " 'maaz',\n",
              " 'you',\n",
              " 'and',\n",
              " 'you',\n",
              " 'mab',\n",
              " 'call',\n",
              " 'me',\n",
              " 'K.']"
            ]
          },
          "metadata": {},
          "execution_count": 6
        }
      ]
    }
  ],
  "metadata": {
    "kernelspec": {
      "display_name": "Python 3",
      "language": "python",
      "name": "python3"
    },
    "colab": {
      "provenance": [],
      "include_colab_link": true
    }
  },
  "nbformat": 4,
  "nbformat_minor": 0
}